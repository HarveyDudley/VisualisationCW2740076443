{
 "cells": [
  {
   "cell_type": "markdown",
   "metadata": {},
   "source": [
    "# 740076443 BEMM461 Executive Dashboard - CW2\n",
    "\n",
    "## Introduction\n",
    "This Jupyter Notebook contains my Dashboard of visualisations created for an executive audience: decision makers at the central level, i.e. the Home Office, and then also police executives at local level. This notebook detail my code, thought process, challenges and considerations amongst other insight. It aims to provide an interesting commentary and display of data analysis and the steps needed to be taken to create a Dashboard.\n",
    "\n",
    "## Table of Links\n",
    "### Table\n",
    "| Description | Link |\n",
    "| -- | -- |\n",
    "| Reflective blog |https://ele.exeter.ac.uk/mod/oublog/view.php?id=3234123|\n",
    "| Chosen Dataset |https://www.data.gov.uk/dataset/44aba3b3-b9e4-4b0c-ad30-6ae2dcd9a9b9/police-use-of-force|\n",
    "| Secondary Dataset | https://www.ons.gov.uk/peoplepopulationandcommunity/crimeandjustice/datasets/policeforceareadatatables |\n",
    "\n",
    "## Table of Contents\n",
    "1. Executive Summary\n",
    "2. Project Dashboard\n",
    "3. Background to the Project\n",
    "4. Articulation of Decision Making Process\n",
    "5. Review of Analytics Methods Chosen\n",
    "6. Review of Available Tools\n",
    "7. Review of Chosen Datasets \n",
    "8. Visualisation of Data with Accompanying Code\n",
    "9. Reflective Evaluation\n",
    "10. Conclusion"
   ]
  },
  {
   "cell_type": "markdown",
   "metadata": {},
   "source": [
    "## 1. Executive Summary\n",
    "\n",
    "The aim of this Dashboard is to provide to UK Home Office decision makers at the local and central level key insights into the current policing of the UK population along various dimensions. In this way this Dashboard is intended for police/justice executive offices across the UK - i.e. including decision makers in the Metropolitan Police. As Sedrakyan et al (2019) posit, these being stakeholders at the “mega-level (governance)” and “macro-level (institution)”.\n",
    "This is done to allow their decisions to be better evidenced and informed with regards to multiple factors, metrics and considerations. For example, the number of police resources needing to be deployed regionally relative to crime incident: target focuses i.e. London, areas for monitoring amongst age gender and then for specific information along the tactics being deployed by the police at multiple levels. By this, this intentional “drill down” display (Bach et al., 2022) targets a “detailed understanding of user needs”, at the “high level and low level” (Brath and Peters, 2004).\n",
    "\n",
    "This was explicitly done to reduce cognitive load and elicit effective and easy to interpret insights at a glance – favouring a self-sufficient “visual language” (Kirk, 2020).\n",
    "\n",
    "The Dashboard consists of multiple dimensions, variables and strata tracking specific metrics; for example, UK knife crime according to region over multiple years is particularly intuitive and instructive.\n",
    "\n",
    "An intentional mix of visualisations were chosen - creating variety for the purpose of specificity, ease of understanding and aesthetics, according to each message being tried to be conveyed and data represented. By this, both the “intended structure of the data” and “perceptual structure of the visualisation” (Sedrakyan et al., 2019) were considered. \n",
    "\n",
    "This Dashboard notebook aims to effuse these considerations along multiple dimensions: audience, dashboard purpose, data source, data structure, data suitability and the intentions behind the crafting of visualisation and display behind each dashboard visualisation. \n",
    "\n",
    "As such I will review and critique of the chosen analytics methods and evaluation of tools used.\n",
    "\n",
    "A link to the original data source is provided for access, evidence and information.\n",
    "\n",
    "The notebook will demonstrate the Python code from start to finish of creating this dashboard, for reference and guidance of thought process and decision making.\n",
    "My reflective blog is linked to evidence the week-by-week development of the project; ideas for topic, data sourcing, data manipulation and data visualisation amongst others: along with challenges and changes.\n",
    "\n",
    "My conclusion summaries the notebook's activities and provides key findings and outcomes along with academic reference."
   ]
  },
  {
   "cell_type": "markdown",
   "metadata": {},
   "source": [
    "## 2. Project Dashboard\n",
    "\n",
    "My Dashboard built and loaded into the Dash (Dash.Plotly.com) framework is provided below, a web based dashboard able to be hosted within the Jupyter Notebook.\n",
    "\n",
    "My dashboard was instead for executives; decision makers who are needing profound insight with minimal input to cognition, processing or prior understanding. Whilst Schwendimann et al., (2016) maintain there is “still no consensus on what constitutes a dashboard”, let alone an effective one, I maintain that a ‘good’ dashboard can be constructed by considering ‘good’ design principles and equally importantly – the audience. Tufte (1997)’s maintenance of “excellence in statistical graphics consist[ing] of complex ideas communicated with clarity, precision and efficiency” renders moot.\n",
    "\n",
    "Dash is an ideal framework for facilitating this; a web-based medium hosting up-to-date graphics packages which are loaded in according to necessary breadth and depth. This intrinsically removes barriers to access and understanding, and is especially potent when real-time data can be displayed. In this way, “cognitive scalability” (Yoghourdijan et al., 2018) is considered in each visualisation - whilst the “structure is not known a priori” (Manovich, 2011), a Dashboard is crucially an interactive, open and considered medium.\n",
    "\n",
    "The information was structured and displayed with human cognitive abilities in mind. This is according to principles of psychology, memory, perception, understanding, best design principles and aesthetics.  In this way, each graph was considered to be “understandable first and beautiful after that” (Cairo, 2012). \n",
    "Summarily, the concept of weaving together “three applications in a seamless fashion” – namely “monitoring, analysis and management” (Eckerson, 2010) was considered throughout the Dashboarding process. This was achieved through various levels of summary depth and consideration of audience utility, requirements, usability and interaction.\n"
   ]
  },
  {
   "cell_type": "code",
   "execution_count": 1,
   "metadata": {},
   "outputs": [
    {
     "data": {
      "text/html": [
       "\n",
       "        <iframe\n",
       "            width=\"100%\"\n",
       "            height=\"650\"\n",
       "            src=\"http://127.0.0.1:8501/\"\n",
       "            frameborder=\"0\"\n",
       "            allowfullscreen\n",
       "            \n",
       "        ></iframe>\n",
       "        "
      ],
      "text/plain": [
       "<IPython.lib.display.IFrame at 0x2e5b1b03650>"
      ]
     },
     "metadata": {},
     "output_type": "display_data"
    }
   ],
   "source": [
    "import dash\n",
    "from dash import dcc, html\n",
    "import dash_bootstrap_components as dbc\n",
    "from dash.dependencies import Input, Output\n",
    "import plotly.express as px\n",
    "import pandas as pd\n",
    "import dash_leaflet as dl\n",
    "import requests\n",
    "import numpy as np\n",
    "import seaborn as sns\n",
    "import matplotlib.pyplot as plt\n",
    "import os\n",
    "\n",
    "# Load sample data (you can replace this with your data source)\n",
    "#df = px.data.gapminder()\n",
    "FullPoliceData = pd.ExcelFile('FullPoliceData.xlsx')\n",
    "\n",
    "# Create a Dash app with Bootstrap styling\n",
    "app = dash.Dash(__name__)\n",
    "\n",
    "#Reading in 3rd page of the Excel sheet for analysis\n",
    "Incidents_DataFrame = pd.read_excel(FullPoliceData, 2, index_col=0, skiprows = 5)\n",
    "\n",
    "#Removing non-data\n",
    "Incidents_DataFrame.drop(Incidents_DataFrame.tail(7).index,inplace=True)\n",
    "Incidents_DataFrame.drop(Incidents_DataFrame.tail(2).index,inplace=True)\n",
    "\n",
    "#Removing Missing Values\n",
    "Incidents_DataFrame.dropna(inplace=True)\n",
    "\n",
    "#Filling Missing Values\n",
    "Incidents_DataFrame.bfill(inplace=True)\n",
    "\n",
    "#Resetting Index\n",
    "Incidents_DataFrame = Incidents_DataFrame.reset_index()\n",
    "\n",
    "#Filling remaining Missing Values\n",
    "Incidents_DataFrame.ffill(inplace=True)\n",
    "\n",
    "#Setting index\n",
    "Incidents_DataFrame.set_index('Type of force')\n",
    "\n",
    "#Making Sub Data Frame\n",
    "forcesplit = [Incidents_DataFrame.loc[[i]] for i in Incidents_DataFrame.index] \n",
    "\n",
    "#Removing variables which would skew data\n",
    "Incidents_DataFrame = Incidents_DataFrame.drop(Incidents_DataFrame[Incidents_DataFrame['Tactic'] == 'Total Restraint'].index)\n",
    "Incidents_DataFrame = Incidents_DataFrame.drop(Incidents_DataFrame[Incidents_DataFrame['Tactic'] == 'Total Unarmed skills'].index)\n",
    "Incidents_DataFrame = Incidents_DataFrame.drop(Incidents_DataFrame[Incidents_DataFrame['Tactic'] == 'Total Other equipment'].index)\n",
    "Incidents_DataFrame = Incidents_DataFrame.drop(Incidents_DataFrame[Incidents_DataFrame['Tactic'] == 'Total Less lethal weapons'].index)\n",
    "Incidents_DataFrame = Incidents_DataFrame.drop(Incidents_DataFrame[Incidents_DataFrame['Tactic'] == 'Total Firearms'].index)\n",
    "Incidents_DataFrame = Incidents_DataFrame.drop(Incidents_DataFrame[Incidents_DataFrame['Tactic'] == 'Total Other'].index)\n",
    "Incidents_DataFrame = Incidents_DataFrame.drop(Incidents_DataFrame[Incidents_DataFrame['Tactic'] == 'Total Not reported'].index)\n",
    "Incidents_DataFrame = Incidents_DataFrame.drop(Incidents_DataFrame[Incidents_DataFrame['Tactic'] == 'Handcuffing, of which'].index)\n",
    "Incidents_DataFrame = Incidents_DataFrame.drop(Incidents_DataFrame[Incidents_DataFrame['Tactic'] == 'Baton, of which'].index)\n",
    "Incidents_DataFrame = Incidents_DataFrame.drop(Incidents_DataFrame[Incidents_DataFrame['Tactic'] == 'Irritant spray, of which'].index)\n",
    "Incidents_DataFrame = Incidents_DataFrame.drop(Incidents_DataFrame[Incidents_DataFrame['Tactic'] == 'CED, of which'].index)\n",
    "\n",
    "#Reading in second dataset for visualisation\n",
    "Age_Type_DataFrame = pd.read_excel(FullPoliceData, 3, skiprows = 4)\n",
    "\n",
    "#Cleaning second dataframe\n",
    "Age_Type_DataFrame.drop([0,1])\n",
    "\n",
    "#Renaming columns\n",
    "Age_Type_DataFrame.rename(columns={\"Unnamed: 0\": \"Type of force\", \"Unnamed: 1\": \"Tactic\", \"Unnamed: 10\": \"Total incidents per tactic\"})\n",
    "\n",
    "#Cleaning\n",
    "Age_Type_DataFrame.drop(Age_Type_DataFrame.tail(8).index,inplace=True)\n",
    "Age_Type_DataFrame = Age_Type_DataFrame.rename(columns={\"Unnamed: 0\": \"Type of force\", \"Unnamed: 1\": \"Tactic\", \"Unnamed: 10\": \"Total incidents per tactic\"})\n",
    "Age_Type_DataFrame = Age_Type_DataFrame.drop(columns=['Unnamed: 9'])\n",
    "\n",
    "#Transforming DataFrame\n",
    "Age_Type_DataFrame = Age_Type_DataFrame.iloc[[*np.arange(1, len(Age_Type_DataFrame)), *np.arange(1)]]\n",
    "\n",
    "#Cleaning second DataFrame\n",
    "Age_Type_DataFrame = Age_Type_DataFrame.drop([1,2,35])\n",
    "Age_Type_DataFrame.drop(Age_Type_DataFrame.tail(1).index,inplace=True)\n",
    "Age_Type_DataFrame['Type of force'] =  Age_Type_DataFrame['Type of force'].ffill()\n",
    "Age_Type_DataFrame = Age_Type_DataFrame.drop(Age_Type_DataFrame[Age_Type_DataFrame['Tactic'] == 'Total Restraint'].index)\n",
    "Age_Type_DataFrame = Age_Type_DataFrame.drop(Age_Type_DataFrame[Age_Type_DataFrame['Tactic'] == 'Handcuffing, of which'].index)\n",
    "Age_Type_DataFrame = Age_Type_DataFrame.drop(Age_Type_DataFrame[Age_Type_DataFrame['Tactic'] == 'Total Unarmed skills'].index)\n",
    "Age_Type_DataFrame = Age_Type_DataFrame.drop(Age_Type_DataFrame[Age_Type_DataFrame['Tactic'] == 'Total Other equipment'].index)\n",
    "Age_Type_DataFrame = Age_Type_DataFrame.drop(Age_Type_DataFrame[Age_Type_DataFrame['Tactic'] == 'Baton, of which'].index)\n",
    "Age_Type_DataFrame = Age_Type_DataFrame.drop(Age_Type_DataFrame[Age_Type_DataFrame['Tactic'] == 'Irritant spray, of which'].index)\n",
    "Age_Type_DataFrame = Age_Type_DataFrame.drop(Age_Type_DataFrame[Age_Type_DataFrame['Tactic'] == 'Total Less lethal weapons'].index)\n",
    "Age_Type_DataFrame = Age_Type_DataFrame.drop(Age_Type_DataFrame[Age_Type_DataFrame['Tactic'] == 'AEP, of which'].index)\n",
    "Age_Type_DataFrame = Age_Type_DataFrame.drop(Age_Type_DataFrame[Age_Type_DataFrame['Tactic'] == 'Total Other'].index)\n",
    "Age_Type_DataFrame = Age_Type_DataFrame.drop(Age_Type_DataFrame[Age_Type_DataFrame['Tactic'] == 'Dog use, of which'].index)\n",
    "\n",
    "#Combining variables in second DataFrame\n",
    "Age_Type_DataFrame_long = Age_Type_DataFrame.melt(id_vars=[\"Type of force\", \"Tactic\", \"Total incidents per tactic\"], \n",
    "                  value_vars=[\"Under 11 years\", \"11 - 17 years\", \"18 - 34 years\", \"35 - 49 years\", \"50 - 64 years\", \"65 and over\", \"Not reported\"],\n",
    "                  var_name=\"Age Group\", value_name=\"Incident Count\")\n",
    "\n",
    "Age_Type_DataFrame_long = Age_Type_DataFrame_long.drop(Age_Type_DataFrame_long[Age_Type_DataFrame_long['Tactic'] == 'Tactical communication (with other tactic)'].index)\n",
    "Gender_DF = pd.read_excel(FullPoliceData, 4, skiprows=4)\n",
    "Gender_DF = Gender_DF.rename(columns={\"Unnamed: 0\": \"Type of force\", \"Unnamed: 1\": \"Tactic\", \"Unnamed: 7\": \"Total incidents per tactic\"})\n",
    "Gender_DF = Gender_DF.drop(columns=['Unnamed: 6'])\n",
    "Gender_DF = Gender_DF.drop(Gender_DF.index[34:44])\n",
    "Gender_DF['Other'] = Gender_DF['Other'] + Gender_DF['Not reported']\n",
    "Gender_DF = Gender_DF.drop(columns=['Not reported'])\n",
    "Gender_DF = Gender_DF.drop([0,1,2])\n",
    "Gender_DF = Gender_DF.drop([44])\n",
    "Gender_DF_Long = Gender_DF.melt(id_vars=[\"Type of force\", \"Tactic\", \"Total incidents per tactic\"], \n",
    "                  value_vars=[\"Male\", \"Female\", \"Other\"],\n",
    "                  var_name=\"Gender\", value_name=\"Incident Count\")\n",
    "Gender_DF_Long = Gender_DF_Long.drop(Gender_DF_Long[Gender_DF_Long['Tactic'] == 'Total Restraint'].index)\n",
    "Gender_DF_Long = Gender_DF_Long.drop(Gender_DF_Long[Gender_DF_Long['Tactic'] == 'Handcuffing, of which'].index)\n",
    "Gender_DF_Long = Gender_DF_Long.drop(Gender_DF_Long[Gender_DF_Long['Tactic'] == 'Total Unarmed skills'].index)\n",
    "Gender_DF_Long = Gender_DF_Long.drop(Gender_DF_Long[Gender_DF_Long['Tactic'] == 'Total Other equipment'].index)\n",
    "Gender_DF_Long = Gender_DF_Long.drop(Gender_DF_Long[Gender_DF_Long['Tactic'] == 'Baton, of which'].index)\n",
    "Gender_DF_Long = Gender_DF_Long.drop(Gender_DF_Long[Gender_DF_Long['Tactic'] == 'Total Less lethal weapons'].index)\n",
    "Gender_DF_Long = Gender_DF_Long.drop(Gender_DF_Long[Gender_DF_Long['Tactic'] == 'Total Other'].index)\n",
    "UK_Regions_Incidents = pd.read_excel(FullPoliceData, 13, skiprows = 3)\n",
    "UK_Regions_Incidents = UK_Regions_Incidents.drop(UK_Regions_Incidents.index[54:57])\n",
    "UK_Regions_Incidents = UK_Regions_Incidents[~UK_Regions_Incidents['Police force'].str.contains('total', case=False, na=False)]\n",
    "region_totals = UK_Regions_Incidents.groupby('Region')['Total'].sum().reset_index()\n",
    "region_totals['Region'] = region_totals['Region'].replace('Yorkshire and the Humber', 'Yorkshire and The Humber')\n",
    "FullPoliceTimeSeries = pd.ExcelFile('policeforceareatablesfinal.xlsx')\n",
    "Knife_TimeSeries = pd.read_excel(FullPoliceTimeSeries, 8, skiprows = 7, header = 1)\n",
    "Knife_TimeSeries = Knife_TimeSeries.drop(columns=['Area Codes'])\n",
    "Knife_TimeSeries = Knife_TimeSeries.rename(columns={\"Apr 2010 to Mar 2011\": \"2010\", \"% involving a knife Apr 2010\\n to Mar 2011\": \"2010 Knife %\", \"Apr 2011 to Mar 2012\\n[note 10]\": \"2011\", \"% involving a knife Apr 2011\\n to Mar 2012\": \"2011 Knife %\"})\n",
    "Knife_TimeSeries = Knife_TimeSeries.rename(columns={\"Apr 2012 to Mar 2013\": \"2012\", \"% involving a knife Apr 2012 \\nto Mar 2013\": \"2012 Knife %\", \"Apr 2013 to Mar 2014\": \"2013\", \"% involving a knife Apr 2013\\n to Mar 2014\": \"2013 Knife %\"})\n",
    "Knife_TimeSeries = Knife_TimeSeries.rename(columns={\"Apr 2014 to Mar 2015\": \"2014\", \"% involving a knife Apr 2014\\n to Mar 2015\": \"2014 Knife %\", \"Apr 2015 to Mar 2016\": \"2015\", \"% involving a knife Apr 2015\\n to Mar 2016\": \"2015 Knife %\"})\n",
    "Knife_TimeSeries = Knife_TimeSeries.rename(columns={\"Apr 2016 to Mar 2017\": \"2016\", \"% involving a knife Apr 2016\\n to Mar 2017\": \"2016 Knife %\", \"Apr 2017 to Mar 2018\": \"2017\", \"% involving a knife Apr 2017\\n to Mar 2018\": \"2017 Knife %\"})\n",
    "Knife_TimeSeries = Knife_TimeSeries.rename(columns={\"Apr 2018 to Mar 2019\": \"2018\", \"% involving a knife Apr 2018\\n to Mar 2019\": \"2018 Knife %\", \"Apr 2019 to Mar 2020\": \"2019\", \"% involving a knife Apr 2019 to Mar 2020\": \"2019 Knife %\"})\n",
    "Knife_TimeSeries = Knife_TimeSeries.rename(columns={\"Apr 2020 to Mar 2021\": \"2020\", \"% involving a knife Apr 2020 to Mar 2021\": \"2020 Knife %\", \"Apr 2021 to Mar 2022\": \"2021\", \"% involving a knife Apr 2021 to Mar 2022\": \"2021 Knife %\"})\n",
    "Knife_TimeSeries = Knife_TimeSeries.rename(columns={\"Jul 2022 to Jun 2023\\n[note 3]\": \"2022\", \"% involving a knife Jul 2022 to Jun 2023\": \"2022 Knife %\", \"Jul 2023 to Jun 2024\\n[note 3]\": \"2023\", \"% involving a knife Jul 2023 to Jun 2024\": \"2023 Knife %\"})\n",
    "Knife_TimeSeries = Knife_TimeSeries.drop(columns=['Jul 2023 to Jun 2024 compared with previous year % change'])\n",
    "Knife_TimeSeries = Knife_TimeSeries.drop([0,1,3])\n",
    "Knife_TimeSeries[\"Area name\"] = Knife_TimeSeries[\"Area name\"].replace(\"ENGLAND [note 3, 9]\", \"England\")\n",
    "Knife_TimeSeries[\"Area name\"] = Knife_TimeSeries[\"Area name\"].replace(\"Northumbria [note 11]\", \"Northumbria\")\n",
    "Knife_TimeSeries[\"Area name\"] = Knife_TimeSeries[\"Area name\"].replace(\"Greater Manchester [note 3, 9]\", \"Manchester\")\n",
    "Knife_TimeSeries[\"Area name\"] = Knife_TimeSeries[\"Area name\"].replace(\"Leicestershire [note 6]\", \"Leicestershire\")\n",
    "Knife_TimeSeries[\"Area name\"] = Knife_TimeSeries[\"Area name\"].replace(\"Essex [note 11]\", \"Essex\")\n",
    "Knife_TimeSeries[\"Area name\"] = Knife_TimeSeries[\"Area name\"].replace(\"Surrey [note 7][note 11]\", \"Surrey\")\n",
    "Knife_TimeSeries[\"Area name\"] = Knife_TimeSeries[\"Area name\"].replace(\"Norfolk [note 11]\", \"Norfolk\")\n",
    "Knife_TimeSeries[\"Area name\"] = Knife_TimeSeries[\"Area name\"].replace(\"Sussex [note 11][note 12]\", \"Sussex\")\n",
    "Knife_TimeSeries[\"Area name\"] = Knife_TimeSeries[\"Area name\"].replace(\"Suffolk [note 11]\", \"Suffolk\")\n",
    "Knife_TimeSeries[\"Area name\"] = Knife_TimeSeries[\"Area name\"].replace(\"Thames Valley [note 11]\", \"Thames Valley\")\n",
    "Knife_TimeSeries[\"Area name\"] = Knife_TimeSeries[\"Area name\"].replace(\"Avon and Somerset [note 11]\", \"Avon and Somerset\")\n",
    "Knife_TimeSeries[\"Area name\"] = Knife_TimeSeries[\"Area name\"].replace(\"WALES\", \"Wales\")\n",
    "Knife_TimeSeries[\"2022\"] = pd.to_numeric(Knife_TimeSeries[\"2022\"], errors = 'coerce')\n",
    "Knife_TimeSeries[\"2022 Knife %\"] = pd.to_numeric(Knife_TimeSeries[\"2022 Knife %\"], errors = 'coerce')\n",
    "Knife_TimeSeries[\"2023\"] = pd.to_numeric(Knife_TimeSeries[\"2023\"], errors = 'coerce')\n",
    "Knife_TimeSeries[\"2023 Knife %\"] = pd.to_numeric(Knife_TimeSeries[\"2023 Knife %\"], errors = 'coerce')\n",
    "UK_regions = ['North East ', 'North West', 'Yorkshire and The Humber', 'West Midlands', 'East Midlands', 'East', 'South East', 'South West', 'London']\n",
    "\n",
    "UK_Knife_Small_DF = Knife_TimeSeries[Knife_TimeSeries['Area name'].isin(UK_regions)]\n",
    "\n",
    "UK_Knife_Small_DF.rename(columns = {'Apr 2016 to Mar 2017': '2016'})\n",
    "\n",
    "UK_Knife_Small_Long = pd.melt(UK_Knife_Small_DF, id_vars=[\"Area name\"], value_vars=[str(year) for year in range(2010, 2024)],  var_name=\"Year\", value_name=\"Knife Incidents\")\n",
    "\n",
    "UK_Knife_Small_Long['Year'] = UK_Knife_Small_Long['Year'].astype(int)\n",
    "\n",
    "UK_Knife_Small_Long['Knife Incidents'] = pd.to_numeric(UK_Knife_Small_Long['Knife Incidents'], errors='coerce')\n",
    "\n",
    "#first graph\n",
    "fig_bubble = px.scatter(Age_Type_DataFrame_long, \n",
    "                        x='Tactic', \n",
    "                        y='Incident Count', \n",
    "                        size='Incident Count', \n",
    "                        color='Age Group', \n",
    "                        title='Bubble Plot of Incident Count by Tactic and Age Group', \n",
    "                        labels={'Incident Count': 'Incident Count', 'Tactic': 'Tactic'},\n",
    "                        size_max=30)\n",
    "\n",
    "#second graph\n",
    "fig_bar = px.bar(Gender_DF_Long, \n",
    "                 x='Gender', \n",
    "                 y='Incident Count', \n",
    "                 color = 'Tactic',\n",
    "                 title='Gender breakdown of Police method used', \n",
    "                 labels={'Type of force': 'Type of Force', 'Total': 'Total Incidents'})\n",
    "\n",
    "\n",
    "#third graph\n",
    "Treemap_Tactic = px.treemap(Incidents_DataFrame, \n",
    "                            path=[px.Constant(\"all\"), 'Type of force', 'Tactic'], \n",
    "                            values='Total',\n",
    "                            title='Population breakdown of all Tactic types',  \n",
    "                            color='Tactic')\n",
    "Treemap_Tactic.update_layout(margin=dict(t=50, l=25, r=25, b=25))\n",
    "\n",
    "#fourth graph\n",
    "Pairplot_Tactic = sns.pairplot(data = Gender_DF, hue = 'Tactic')\n",
    "pairplot_image_path = os.path.join(os.getcwd(), 'assets', 'pairplot_tactic.png')\n",
    "os.makedirs(os.path.dirname(pairplot_image_path), exist_ok=True)\n",
    "Pairplot_Tactic.savefig(pairplot_image_path, dpi=300)\n",
    "plt.close()\n",
    "\n",
    "#fifth graph\n",
    "plt.figure(figsize=(12, 8))\n",
    "TimeSeries_Knife = sns.lineplot(x=\"Year\", y=\"Knife Incidents\", hue=\"Area name\", data=UK_Knife_Small_Long, marker=\"o\")\n",
    "plt.title(\"Regional number of Knife Incidents over time\")\n",
    "time_series_image_path = os.path.join(os.getcwd(), 'assets', 'time_series_knife.png')\n",
    "os.makedirs(os.path.dirname(time_series_image_path), exist_ok=True)\n",
    "plt.savefig(time_series_image_path, dpi=300)\n",
    "plt.close()\n",
    "\n",
    "\n",
    "#geojson \n",
    "geojson_url = \"https://raw.githubusercontent.com/codeforgermany/click_that_hood/master/public/data/united-kingdom-regions.geojson\"\n",
    "response = requests.get(geojson_url)\n",
    "geojson_data = response.json()\n",
    "\n",
    "\n",
    "# Layout of the app\n",
    "app.layout = html.Div([\n",
    "    # Title\n",
    "    html.H1(\"UK Police Incidents Interactive Dashboard\", style={'textAlign': 'center'}),\n",
    "\n",
    "    # Map\n",
    "    html.H3(\"UK Police Incident Areas and Values\", style={'textAlign': 'center'}),\n",
    "    dl.Map(\n",
    "        center=[51.505, -0.09], zoom=6, children=[\n",
    "            dl.TileLayer(),\n",
    "            dl.GeoJSON(data=geojson_data, id=\"geojson-layer\")\n",
    "        ], style={'height': '500px', 'width': '100%'}\n",
    "    ),\n",
    "# New Bubble Chart\n",
    "    html.H3(\"Incident Count by Tactic and Age Group\", style={'textAlign': 'center'}),\n",
    "    dcc.Graph(\n",
    "        id='age-group-bubble-chart',\n",
    "        figure=fig_bubble\n",
    "    ),\n",
    "# New Bar Chart for Force Incidents by Type\n",
    "    html.H3(\"Gender breakdown of police methods used\", style={'textAlign': 'center'}),\n",
    "    dcc.Graph(\n",
    "        id='force-incidents-bar-chart',\n",
    "        figure=fig_bar\n",
    "    ),\n",
    "#Treemap\n",
    "   html.H3(\"Incidents by Tactic and Type of Force\", style={'textAlign': 'center'}),\n",
    "    dcc.Graph(\n",
    "        id='treemap-tactic',\n",
    "        figure=Treemap_Tactic\n",
    "    ),\n",
    "\n",
    "#Pairplot\n",
    "    html.H1(\"Pairplot of Tactics against Gender\", style={'textAlign': 'center'}),\n",
    "    # Embed the saved pairplot image in the dashboard\n",
    "    html.Div([\n",
    "     html.Img(src='/assets/pairplot_tactic.png', style={'width': '80%', 'margin': '0 auto', 'display': 'block'})\n",
    "    ]),\n",
    "\n",
    "#TimeSeries Knife Crime\n",
    "    html.H1(\"Knife Incidents Time Series\"),\n",
    "    html.Img(src='/assets/time_series_knife.png', style={'width': '80%', 'height': 'auto'})\n",
    "]),\n",
    "\n",
    "\n",
    "# Run the app in Jupyter notebook\n",
    "app.run_server(mode=\"inline\", port = 8501)\n"
   ]
  },
  {
   "cell_type": "markdown",
   "metadata": {},
   "source": [
    "## 3. Background to the Project\n",
    "\n",
    "For the project I knew I wanted to create a dashboard for executives along a socioeconomic and/or demographic perspective in the UK.\n",
    "\n",
    "For example, originally I was going to look into how benefits payments varied across region and similar demographic dimensions utilised, to generate insights into to the types of people requiring certain amounts of government money. In this way, the public executives again at the central and local level would be provided micro and macro insights and help inform their policy at large or specifically. In this way, good depictions “must consider potential users if they are to be effective” (Purchase, 2000) which was considered from the start of the Dashboard.\n",
    "\n",
    "However, I located this very contemporary dataset on Policing on the Government website when conducting my original searches. I then selected it out of recency, breadth and high relevance to the new topic along with the provenance of being an authoritative source of data – data collection conducted by the ONS. I also decided to pursue this topic out of own personal interest - i.e. to what extent UK police used firearms and other methods and which regions exhibited higher levels of crime. This is detailed in Week 2 of my blog.\n",
    "\n",
    "As such, the background to the project was deliberative but focussed and intentional in its generation of topic, aim, objectives and construal of information and insight displayed."
   ]
  },
  {
   "cell_type": "markdown",
   "metadata": {},
   "source": [
    "## 4. Articulation of Decision Making Process\n",
    "\n",
    "Main focus of the project:\n",
    "\n",
    "- Building on from the topic's exposition, my main focus was to provide micro and macro insights at various levels of depth across various strata according to importance, relevance and targetability to the executives. Details of this are found in my Week 1 blog post.\n",
    "\n",
    "- My general focus throughout was on ensuring comprehensibility and the ability to translate and communicate large quantities of data into actionable insight without assistance from natural language. Considerations of this are detailed in my Week 3 blog post.\n",
    "\n",
    "Specific decision making:\n",
    "\n",
    "Data Source:\n",
    "- I had to choose datasets according to provenance, accuracy, reliability and relevance.\n",
    "\n",
    "- As such, I located a secondary Gov UK source as well: supporting the results of the original dataset and expanding on displayed information validity and breadth. This was to also provide a time-based aspect to my Dashboard. As Rosli and Caberra (2015) outline, “by consciously using Gestalt theory to motivate the design process”, the “spectator [is made] a more active participant” through reducing cognitive load and enhancing comprehensibility. \n",
    "\n",
    "1. Variables:\n",
    "- Consequently, this meant I had to make various initial decisions with important implication.\n",
    "- For example, the data source was particularly rich in terms of breadth and depth; there was an enjoyable amount of observations and variables considered taking the form of over a dozen worksheets in the Excel workbook.\n",
    "- This meant I had to make the executive decision to both exclude and include various variables and data points: not least in terms of specificity to the project but also by definition in terms of what constitutes an effective dashboard and constituent visualisations.\n",
    "- This decision was made in accordance with suitability of the data: quantity available for to be modelled and then considering which data points will provide the most insight for the executive audience. This is also detailed in my Week 4 Blog Post.\n",
    "\n",
    "2. Manipulation:\n",
    "- I had to create various Dataframes and subsects of the data according to the messages I wanted to convey.\n",
    "- This meant cleaning the data, handling missing values, recasting variables and transforming the data in wide to long formats amongst other techniques.\n",
    "- As such this was iterative and considered to the end of the insights I wanted to provide but also what messages the data intrinsically leant from it's values and intrinsic nature.\n",
    "\n",
    "3. Visualisation:\n",
    "- I knew my Dashboard was going to consist of 6 graphics. This meant I had to deliberate and decide as to the various mediums and displays appropriate for each story I wanted to tell; as well as taking into considerations precepts of design and psychology.\n",
    "- As such, I decided on each graph's form as I analysed the data and not prescriptively. If I had decided beforehand, this would have meant some datapoints would be displayed in mediums that are not necessarily the best at telling their story. As Tufte and Graves-Morris (2014) outline, “graphical excellence” necessitates “a narrative quality: a story to tell about the data”. Reinforcingly, Knaflic (2015) corroborates this intentional construction in that visualisation “[is] typically the only part of the analytical process your audience ever sees”.\n",
    "- As such, I knew I wanted a wide variety of displays with elements of interactivity and intuition.\n",
    "-For example, the interactive bubble plot I think is particularly effective at telling an initial story of the distribution and skewness but then also encourages engagement and investigation through being able to be zoomed in.\n",
    "- The line graph was also very effective at displaying how London has become a centre point for knife crime, and the area map reinforces this with the easy to comprehend colour scheme showed below.\n",
    "\n",
    "Skills and libraries needed throughout:\n",
    "\n",
    "1. Cleaning\n",
    "- This took the form of the Pandas library for base commands; its features of Dataframes and general useful commands meant it was a great all-round library.\n",
    "\n",
    "2. Manipulation\n",
    "- Numpy has important numerical functions that meant it was vital to have loaded in.\n",
    "\n",
    "3. Visualisation\n",
    "- I really enjoyed working with Plotnine to create some really interesting graphs in a simple grammar of graphics.\n",
    "However, Matplotlib, Seaborn, and Plotly were all loaded in for their own respective nuance and assistance in creating graphs; i.e. Plotly was compatible with Dash and had a simple syntax as well.\n",
    "I had to work with Folium and GeoPandas in creating the map which required libraries including 'os', 'requests' and 'io' to read in the GeoJson file. Blog Post for Week 4 details the creation and solution with regards to the interactive map.\n"
   ]
  },
  {
   "cell_type": "markdown",
   "metadata": {},
   "source": [
    "## 5. Review of Analytics Methods Chosen\n",
    "\n",
    "- Analytics methods\n",
    "\n",
    "1. Descriptive Analytics\n",
    "- Descriptive Analytics took the form of gaining a strong statistical understanding of each data and dimension.\n",
    "- This meant understanding the data I was working with; its form, shape, distribution, range, outlier values and so forth.\n",
    "- These analytics were vital because it informed how I then manipulated the data with Pandas.\n",
    "- Descriptive Analytics took the form of: Descriptive (Summary) Statistics, Box Plots and Bar Plots.\n",
    "\n",
    "2. Dimensionality Reduction\n",
    "- This took the form of reducing the amount of variables I was working with.\n",
    "- Here I created smaller Dataframes based on each question I wanted to answer: i.e. was crime more skewed towards a certain age group or gender.\n",
    "- This dimensionality reduction meant I was dealing with the right amount of data and to minimise confounding results.\n",
    "\n",
    "3. Prescriptive Analytics\n",
    "- It would have provided an interesting dimension to feature an element of prediction in the Dashboard. However, this was constrained by the data available and the need to communicate extant trends to the audience.\n",
    "\n",
    "As such the following graphs were selected:\n",
    "1. Bar Plot - Great for directly comparing two values of one variable or two variables. Here, plotting Male, Female and Other immediately displayed important insight: i.e. males are more likely to offend and the reporting of 'Other' is minimal.\n",
    "2. Line Graph - Ideal for showing the trend along time horizons, this was suitable for displaying the relationship between regions' knife crime and clearly showed London as the most affected region.\n",
    "3. Bubble Plot - Adding value to all graphs, clearly we see the highest offenders are youths. The nature of the graphic allows the executives to dig deeper into different dimensions; i.e. other age groups or types of force used. It also showed that the data source could potentially be improved by creating more age groups instead of one very large category of 18-34.\n",
    "4. Interactive Geographic Map - This is shown below; despite extensive efforts I was not able to get the GeoJson layer of values to be added to the map. Nonetheless, it demonstrated that London was clearly the highest affected area of crime and would provide interesting insight if the dashboard became connected to real-time data. \n",
    "5. Tree Map - This display was very effective at reducing quite a broad variable with different implications into a singular intuitive graphic.\n",
    "6. Pairplot - Whilst having multiple graphs within this, it importantly demonstrated the distribution of each value which underpinned all the data being displayed, as well as displaying new information of its own.\n",
    "As Berinato (2023) portends, “to judge a chart’s value… you need to know more” than “whether you used the right chart type”. By this, the nature of these graphs were informed by the structure of the data, the story I wanted to tell, and considering the user’s needs, wants and cognition. \n"
   ]
  },
  {
   "cell_type": "markdown",
   "metadata": {},
   "source": [
    "## 6. Review of Available Tools\n",
    "\n",
    "1. Python was the optimal tool for the task. It’s simplicity and power but crucially the ability to integrate and import the relevant external libraries were vital. As Toasa et al (2018) portend “no matter how great the technology”, the “dashboard’s success as a medium of communication is a product of design”. By this, Python was the best tool in facilitating the medium of communication in it’s adaptability, scale, useability and functionality.\n",
    "\n",
    "2. Plotnine\n",
    "- Nonetheless, Plotnine was surprisingly not compatible with Dash. This meant I had to convert the two graphs I made in Plotnine into Plotly graphs or images to be displayed.\n",
    "- If I were to do the project again or be able to choose any tool, I'd want to code some in R or at least be able to use Plotnine freely.\n",
    "3. Arc GIS\n",
    "- Again this was not compatible with Dash. Whilst it was possible to load most of the interactive map in without it, I felt the standard GeoJson format and syntax was more customisable and better at displaying desired information than the format it took in the Dashboard. By this, Arc GIS is now what I will use for future geographical visualisation.\n",
    "4. Stata\n",
    "- I'd be very interested to try and integrate Stata into the process.\n",
    "Stata would be suitable for regression, larger datasets and integrating multiple datasets. It would also bring more credence to the statistical side of Analytics.\n",
    "\n",
    "5. R and GeoJson would be suitable because they'd complement existing libraries but boost comprehensibility and aesthetics with no downfall. In fact Plotnine is remarkably easy to use and modify. It can be hard to align all aspects when using GeoJson files especially region codes but when looking to conduct further specific analysis, for example now across a map of all London boroughs, this would be very useful.\n",
    "However as with all tools, the dashboard’s “goal of informing while not distracting users” (Janes and Succi, 2013) means consideration along the lines of story, suitability and nature of the data are pertinent in tool selection.\n"
   ]
  },
  {
   "cell_type": "markdown",
   "metadata": {},
   "source": [
    "## 7. Review of Chosen Datasets \n",
    "\n",
    "1. Police use of Force: 2018 Data.Gov.UK - Link 1\n",
    "-This source was the most recent available from the best source to be used – the government. As such it proved authoritative with a great depth of variables but also breadth from multiple datasheets. By this it also contained the most relevant metrics relating to my goal of informing executives in the display of information in my Dashboard.\n",
    "\n",
    "\n",
    "2. Crime in England and Wales: Police Force Area June 2024 ONS - Link 2\n",
    "Similarly, this complementary secondary data source was also very recent and allowed my Dashboard to have a time series aspect. It was from a different branch of government but still proved as statistically reliable and suitable along my aims.\n",
    "They were both ideal to work with: there were minimal missing values but also a large amount of data to work with which allowed me to be selective, specific and statistically significant in my results. There was a lot of transformation needed to extract the relevant data points and information with regards to my narrative, but these are not weaknesses of the datasets. Naturally, to be improved there could still have been more entries to increase analysis’ scope and explainability. \n"
   ]
  },
  {
   "cell_type": "markdown",
   "metadata": {},
   "source": [
    "## 8. Visualisation of Data with Accompanying Code\n",
    "A key visualisation of the Dashboard is the coloured map shown below: it sets the scene of the story in displaying how London is the epicentre of crime, as well as it’s relative standing compared to neighbouring regions. The Dashboard is summarily concluded with a time series depiction of London’s markedly increased knife crime rate, posing a micro focus from an initial macro level insight.\n",
    "Secondly, the interactive bubble plot is key in my Dashboard; it allows executives to zoom in as they wish: “overview first, zoom and filter, then details on demand” (Sedrakyan et al, 2019). \n"
   ]
  },
  {
   "cell_type": "code",
   "execution_count": 2,
   "metadata": {},
   "outputs": [
    {
     "data": {
      "text/html": [
       "<div style=\"width:100%;\"><div style=\"position:relative;width:100%;height:0;padding-bottom:60%;\"><span style=\"color:#565656\">Make this Notebook Trusted to load map: File -> Trust Notebook</span><iframe srcdoc=\"&lt;!DOCTYPE html&gt;\n",
       "&lt;html&gt;\n",
       "&lt;head&gt;\n",
       "    \n",
       "    &lt;meta http-equiv=&quot;content-type&quot; content=&quot;text/html; charset=UTF-8&quot; /&gt;\n",
       "    \n",
       "        &lt;script&gt;\n",
       "            L_NO_TOUCH = false;\n",
       "            L_DISABLE_3D = false;\n",
       "        &lt;/script&gt;\n",
       "    \n",
       "    &lt;style&gt;html, body {width: 100%;height: 100%;margin: 0;padding: 0;}&lt;/style&gt;\n",
       "    &lt;style&gt;#map {position:absolute;top:0;bottom:0;right:0;left:0;}&lt;/style&gt;\n",
       "    &lt;script src=&quot;https://cdn.jsdelivr.net/npm/leaflet@1.9.3/dist/leaflet.js&quot;&gt;&lt;/script&gt;\n",
       "    &lt;script src=&quot;https://code.jquery.com/jquery-3.7.1.min.js&quot;&gt;&lt;/script&gt;\n",
       "    &lt;script src=&quot;https://cdn.jsdelivr.net/npm/bootstrap@5.2.2/dist/js/bootstrap.bundle.min.js&quot;&gt;&lt;/script&gt;\n",
       "    &lt;script src=&quot;https://cdnjs.cloudflare.com/ajax/libs/Leaflet.awesome-markers/2.0.2/leaflet.awesome-markers.js&quot;&gt;&lt;/script&gt;\n",
       "    &lt;link rel=&quot;stylesheet&quot; href=&quot;https://cdn.jsdelivr.net/npm/leaflet@1.9.3/dist/leaflet.css&quot;/&gt;\n",
       "    &lt;link rel=&quot;stylesheet&quot; href=&quot;https://cdn.jsdelivr.net/npm/bootstrap@5.2.2/dist/css/bootstrap.min.css&quot;/&gt;\n",
       "    &lt;link rel=&quot;stylesheet&quot; href=&quot;https://netdna.bootstrapcdn.com/bootstrap/3.0.0/css/bootstrap-glyphicons.css&quot;/&gt;\n",
       "    &lt;link rel=&quot;stylesheet&quot; href=&quot;https://cdn.jsdelivr.net/npm/@fortawesome/fontawesome-free@6.2.0/css/all.min.css&quot;/&gt;\n",
       "    &lt;link rel=&quot;stylesheet&quot; href=&quot;https://cdnjs.cloudflare.com/ajax/libs/Leaflet.awesome-markers/2.0.2/leaflet.awesome-markers.css&quot;/&gt;\n",
       "    &lt;link rel=&quot;stylesheet&quot; href=&quot;https://cdn.jsdelivr.net/gh/python-visualization/folium/folium/templates/leaflet.awesome.rotate.min.css&quot;/&gt;\n",
       "    \n",
       "            &lt;meta name=&quot;viewport&quot; content=&quot;width=device-width,\n",
       "                initial-scale=1.0, maximum-scale=1.0, user-scalable=no&quot; /&gt;\n",
       "            &lt;style&gt;\n",
       "                #map_18875c586c466075d98e58fdc50096a2 {\n",
       "                    position: relative;\n",
       "                    width: 100.0%;\n",
       "                    height: 100.0%;\n",
       "                    left: 0.0%;\n",
       "                    top: 0.0%;\n",
       "                }\n",
       "                .leaflet-container { font-size: 1rem; }\n",
       "            &lt;/style&gt;\n",
       "        \n",
       "&lt;/head&gt;\n",
       "&lt;body&gt;\n",
       "    \n",
       "    \n",
       "            &lt;div class=&quot;folium-map&quot; id=&quot;map_18875c586c466075d98e58fdc50096a2&quot; &gt;&lt;/div&gt;\n",
       "        \n",
       "&lt;/body&gt;\n",
       "&lt;script&gt;\n",
       "    \n",
       "    \n",
       "            var map_18875c586c466075d98e58fdc50096a2 = L.map(\n",
       "                &quot;map_18875c586c466075d98e58fdc50096a2&quot;,\n",
       "                {\n",
       "                    center: [52.0, -1.5],\n",
       "                    crs: L.CRS.EPSG3857,\n",
       "                    zoom: 6,\n",
       "                    zoomControl: true,\n",
       "                    preferCanvas: false,\n",
       "                }\n",
       "            );\n",
       "\n",
       "            \n",
       "\n",
       "        \n",
       "    \n",
       "            var tile_layer_ed7c2ac1c3a6b35a49254b191c995df3 = L.tileLayer(\n",
       "                &quot;https://tile.openstreetmap.org/{z}/{x}/{y}.png&quot;,\n",
       "                {&quot;attribution&quot;: &quot;\\u0026copy; \\u003ca href=\\&quot;https://www.openstreetmap.org/copyright\\&quot;\\u003eOpenStreetMap\\u003c/a\\u003e contributors&quot;, &quot;detectRetina&quot;: false, &quot;maxNativeZoom&quot;: 19, &quot;maxZoom&quot;: 19, &quot;minZoom&quot;: 0, &quot;noWrap&quot;: false, &quot;opacity&quot;: 1, &quot;subdomains&quot;: &quot;abc&quot;, &quot;tms&quot;: false}\n",
       "            );\n",
       "        \n",
       "    \n",
       "            tile_layer_ed7c2ac1c3a6b35a49254b191c995df3.addTo(map_18875c586c466075d98e58fdc50096a2);\n",
       "        \n",
       "    \n",
       "        function geo_json_b388bb81545bda5796278c3037c25dbe_styler(feature) {\n",
       "            switch(feature.id) {\n",
       "                case &quot;0&quot;: \n",
       "                    return {&quot;color&quot;: &quot;black&quot;, &quot;fillColor&quot;: &quot;#91d068&quot;, &quot;fillOpacity&quot;: 0.7, &quot;weight&quot;: 1};\n",
       "                case &quot;1&quot;: \n",
       "                    return {&quot;color&quot;: &quot;black&quot;, &quot;fillColor&quot;: &quot;#a50026&quot;, &quot;fillOpacity&quot;: 0.7, &quot;weight&quot;: 1};\n",
       "                case &quot;2&quot;: \n",
       "                    return {&quot;color&quot;: &quot;black&quot;, &quot;fillColor&quot;: &quot;#e5f49b&quot;, &quot;fillOpacity&quot;: 0.7, &quot;weight&quot;: 1};\n",
       "                case &quot;3&quot;: \n",
       "                    return {&quot;color&quot;: &quot;black&quot;, &quot;fillColor&quot;: &quot;#a7d96b&quot;, &quot;fillOpacity&quot;: 0.7, &quot;weight&quot;: 1};\n",
       "                case &quot;4&quot;: \n",
       "                    return {&quot;color&quot;: &quot;black&quot;, &quot;fillColor&quot;: &quot;#fa9656&quot;, &quot;fillOpacity&quot;: 0.7, &quot;weight&quot;: 1};\n",
       "                case &quot;5&quot;: \n",
       "                    return {&quot;color&quot;: &quot;black&quot;, &quot;fillColor&quot;: &quot;#006837&quot;, &quot;fillOpacity&quot;: 0.7, &quot;weight&quot;: 1};\n",
       "                case &quot;6&quot;: \n",
       "                    return {&quot;color&quot;: &quot;black&quot;, &quot;fillColor&quot;: &quot;#0f8446&quot;, &quot;fillOpacity&quot;: 0.7, &quot;weight&quot;: 1};\n",
       "                case &quot;7&quot;: \n",
       "                    return {&quot;color&quot;: &quot;black&quot;, &quot;fillColor&quot;: &quot;#7fc866&quot;, &quot;fillOpacity&quot;: 0.7, &quot;weight&quot;: 1};\n",
       "                default:\n",
       "                    return {&quot;color&quot;: &quot;black&quot;, &quot;fillColor&quot;: &quot;#9bd469&quot;, &quot;fillOpacity&quot;: 0.7, &quot;weight&quot;: 1};\n",
       "            }\n",
       "        }\n",
       "\n",
       "        function geo_json_b388bb81545bda5796278c3037c25dbe_onEachFeature(feature, layer) {\n",
       "            layer.on({\n",
       "            });\n",
       "        };\n",
       "        var geo_json_b388bb81545bda5796278c3037c25dbe = L.geoJson(null, {\n",
       "                onEachFeature: geo_json_b388bb81545bda5796278c3037c25dbe_onEachFeature,\n",
       "            \n",
       "                style: geo_json_b388bb81545bda5796278c3037c25dbe_styler,\n",
       "        });\n",
       "\n",
       "        function geo_json_b388bb81545bda5796278c3037c25dbe_add (data) {\n",
       "            geo_json_b388bb81545bda5796278c3037c25dbe\n",
       "                .addData(data);\n",
       "        }\n",
       "            geo_json_b388bb81545bda5796278c3037c25dbe_add({&quot;bbox&quot;: [-6.418942, 49.864794, 1.768662, 55.81166], &quot;features&quot;: [{&quot;bbox&quot;: [-6.418942, 49.864794, -1.485727, 52.11258], &quot;geometry&quot;: {&quot;coordinates&quot;: [[[[-1.857422, 52.052227], [-1.871375, 52.072562], [-1.812747, 52.078732], [-1.767659, 52.11258], [-1.746034, 52.092947], [-1.728572, 52.100107], [-1.730683, 52.073387], [-1.701743, 52.072797], [-1.693995, 52.039514], [-1.61752, 52.033383], [-1.6699, 51.993079], [-1.662541, 51.963995], [-1.615202, 51.937673], [-1.645543, 51.922285], [-1.633063, 51.899217], [-1.658664, 51.896543], [-1.68688, 51.865492], [-1.681944, 51.803986], [-1.719501, 51.783206], [-1.687034, 51.739879], [-1.688014, 51.71204], [-1.648268, 51.684083], [-1.696918, 51.681532], [-1.691952, 51.652162], [-1.659969, 51.635057], [-1.69063, 51.605449], [-1.691124, 51.583523], [-1.647704, 51.571951], [-1.602826, 51.518295], [-1.584788, 51.524994], [-1.582305, 51.494111], [-1.524006, 51.447481], [-1.526633, 51.423932], [-1.570934, 51.415309], [-1.495464, 51.369667], [-1.500624, 51.35627], [-1.485727, 51.347685], [-1.498313, 51.329379], [-1.527522, 51.338469], [-1.533575, 51.316226], [-1.519525, 51.295942], [-1.542596, 51.281254], [-1.536046, 51.248533], [-1.607435, 51.252769], [-1.633552, 51.21752], [-1.694109, 51.204048], [-1.668847, 51.190777], [-1.654056, 51.156288], [-1.662987, 51.127197], [-1.626263, 51.117343], [-1.632388, 51.032786], [-1.599409, 51.023735], [-1.597535, 51.008062], [-1.628896, 50.999038], [-1.602934, 50.978524], [-1.623411, 50.954645], [-1.661669, 50.945286], [-1.719627, 50.976787], [-1.81543, 50.985929], [-1.835821, 51.009429], [-1.873992, 50.984448], [-1.87449, 51.006337], [-1.956829, 50.989836], [-1.873716, 50.917261], [-1.841842, 50.931668], [-1.810762, 50.927169], [-1.816549, 50.903956], [-1.848563, 50.889896], [-1.853546, 50.863469], [-1.807117, 50.863324], [-1.790712, 50.836401], [-1.812137, 50.806502], [-1.788197, 50.76668], [-1.749066, 50.779521], [-1.744176, 50.747466], [-1.681664, 50.751541], [-1.748694, 50.711022], [-1.831387, 50.720435], [-1.917739, 50.701938], [-1.950037, 50.68017], [-1.94936, 50.64643], [-1.922265, 50.642862], [-1.955348, 50.618895], [-1.942772, 50.607581], [-1.951293, 50.594312], [-2.056051, 50.576546], [-2.063964, 50.593408], [-2.134475, 50.61251], [-2.42094, 50.636388], [-2.45115, 50.614637], [-2.432372, 50.596237], [-2.470072, 50.584791], [-2.422111, 50.569308], [-2.41522, 50.550155], [-2.456892, 50.512863], [-2.449521, 50.560358], [-2.541542, 50.617654], [-2.744043, 50.703801], [-2.880707, 50.730562], [-2.920035, 50.731667], [-3.016425, 50.698372], [-3.08004, 50.701936], [-3.096028, 50.68516], [-3.254453, 50.673569], [-3.305345, 50.62743], [-3.358551, 50.606389], [-3.429423, 50.62219], [-3.435298, 50.613738], [-3.426749, 50.627914], [-3.446899, 50.6584], [-3.444384, 50.617161], [-3.43604, 50.611073], [-3.424684, 50.613685], [-3.423399, 50.608775], [-3.466683, 50.577219], [-3.508823, 50.516839], [-3.495667, 50.516766], [-3.467724, 50.463936], [-3.456312, 50.399981], [-3.507483, 50.378975], [-3.517913, 50.346521], [-3.542869, 50.335554], [-3.573245, 50.347604], [-3.578247, 50.375207], [-3.594695, 50.382259], [-3.58071, 50.373312], [-3.584411, 50.360351], [-3.563511, 50.335467], [-3.641517, 50.290556], [-3.658694, 50.237978], [-3.640473, 50.221031], [-3.723649, 50.201518], [-3.77374, 50.22388], [-3.743077, 50.240915], [-3.766456, 50.261247], [-3.758658, 50.24025], [-3.78236, 50.226533], [-3.784686, 50.210729], [-3.822939, 50.217097], [-3.870676, 50.241104], [-3.859576, 50.261904], [-3.947208, 50.307775], [-4.03952, 50.291892], [-4.076657, 50.302744], [-4.054328, 50.311297], [-4.122599, 50.317912], [-4.127432, 50.357911], [-4.18539, 50.367176], [-4.186051, 50.382105], [-4.206797, 50.410568], [-4.230821, 50.390554], [-4.201734, 50.388219], [-4.193371, 50.371376], [-4.209095, 50.368674], [-4.164943, 50.349378], [-4.200412, 50.333051], [-4.187836, 50.317439], [-4.222961, 50.311128], [-4.231654, 50.33395], [-4.316329, 50.361545], [-4.429174, 50.361073], [-4.474044, 50.331938], [-4.538875, 50.323725], [-4.640349, 50.327042], [-4.618012, 50.334881], [-4.630032, 50.339168], [-4.672484, 50.313314], [-4.701008, 50.343774], [-4.756812, 50.331033], [-4.766097, 50.319371], [-4.752338, 50.298232], [-4.773671, 50.294106], [-4.786358, 50.269648], [-4.765252, 50.256397], [-4.7983, 50.219238], [-4.862733, 50.234633], [-4.918769, 50.195984], [-4.955723, 50.202202], [-4.981411, 50.151497], [-5.009669, 50.139061], [-5.018196, 50.148831], [-5.004563, 50.152731], [-4.995693, 50.16225], [-5.027866, 50.156621], [-5.017796, 50.183452], [-5.035401, 50.203801], [-5.00598, 50.227605], [-5.014368, 50.227055], [-5.012848, 50.241115], [-5.021503, 50.244693], [-5.027483, 50.210479], [-5.060902, 50.1917], [-5.045822, 50.16874], [-5.077477, 50.166791], [-5.041678, 50.14399], [-5.07619, 50.140285], [-5.090842, 50.102571], [-5.140549, 50.106188], [-5.172279, 50.090993], [-5.074423, 50.086283], [-5.07912, 50.0691], [-5.055386, 50.052595], [-5.067277, 50.034185], [-5.095465, 50.026735], [-5.101137, 50.003251], [-5.166254, 50.002817], [-5.185089, 49.963077], [-5.209165, 49.955423], [-5.247633, 49.976612], [-5.268491, 50.004647], [-5.257431, 50.021342], [-5.263783, 50.033752], [-5.31619, 50.084125], [-5.429389, 50.096794], [-5.463638, 50.122483], [-5.528745, 50.123228], [-5.548904, 50.105237], [-5.53244, 50.088219], [-5.542195, 50.070512], [-5.577182, 50.051725], [-5.679499, 50.034902], [-5.715935, 50.064815], [-5.691091, 50.090815], [-5.710426, 50.127727], [-5.673002, 50.166314], [-5.62842, 50.168463], [-5.539506, 50.21658], [-5.478319, 50.219503], [-5.468716, 50.200781], [-5.435884, 50.196447], [-5.39567, 50.240816], [-5.329234, 50.243391], [-5.25158, 50.282794], [-5.235645, 50.318346], [-5.162705, 50.34481], [-5.147946, 50.405364], [-5.101306, 50.425792], [-5.078285, 50.418277], [-5.048816, 50.441242], [-5.035919, 50.488783], [-5.047249, 50.497888], [-5.02618, 50.526914], [-5.036585, 50.549439], [-4.984484, 50.543051], [-4.945017, 50.569233], [-4.947791, 50.559947], [-4.92832, 50.54593], [-4.92215, 50.578496], [-4.935974, 50.587037], [-4.925058, 50.5943], [-4.888173, 50.583251], [-4.790559, 50.602663], [-4.76018, 50.651556], [-4.764345, 50.66987], [-4.681208, 50.696826], [-4.65688, 50.716044], [-4.654233, 50.740171], [-4.564637, 50.783552], [-4.559215, 50.865663], [-4.571591, 50.903824], [-4.547869, 50.92975], [-4.526873, 51.023214], [-4.343007, 50.990345], [-4.302219, 51.000449], [-4.241995, 51.043444], [-4.22255, 51.068064], [-4.240002, 51.078537], [-4.203735, 51.057406], [-4.193856, 51.059202], [-4.243116, 51.088421], [-4.230998, 51.117411], [-4.26243, 51.143146], [-4.220864, 51.152477], [-4.216747, 51.181817], [-4.233627, 51.188099], [-4.089298, 51.218847], [-4.042328, 51.208035], [-3.926884, 51.232245], [-3.810129, 51.232304], [-3.785417, 51.246838], [-3.618745, 51.218382], [-3.543336, 51.233552], [-3.452122, 51.216972], [-3.3998, 51.188384], [-3.275424, 51.185697], [-3.098206, 51.216399], [-3.065429, 51.23503], [-3.109555, 51.231876], [-3.011921, 51.240193], [-3.039045, 51.251989], [-3.005074, 51.242297], [-3.026555, 51.253426], [-3.081114, 51.258276], [-3.058135, 51.260052], [-3.079807, 51.263282], [-3.04493, 51.289705], [-3.02999, 51.323278], [-3.039177, 51.330179], [-3.021756, 51.32898], [-2.983978, 51.388397], [-2.914756, 51.400639], [-2.888018, 51.427868], [-3.107432, 51.341627], [-3.117816, 51.37509], [-2.781425, 51.525285], [-2.698995, 51.524916], [-2.702422, 51.545802], [-2.678951, 51.560011], [-2.710695, 51.569641], [-2.666066, 51.594129], [-2.656512, 51.622162], [-2.680281, 51.647285], [-2.666042, 51.664563], [-2.686383, 51.66281], [-2.656841, 51.674295], [-2.683951, 51.701047], [-2.668492, 51.705748], [-2.687451, 51.730892], [-2.662689, 51.753891], [-2.680449, 51.768925], [-2.678305, 51.803249], [-2.636708, 51.843089], [-2.531623, 51.860764], [-2.508623, 51.885161], [-2.439358, 51.897387], [-2.466043, 51.927966], [-2.465488, 51.951688], [-2.500907, 51.960601], [-2.470994, 51.994728], [-2.491986, 52.007653], [-2.478934, 52.022521], [-2.413178, 51.994084], [-2.351382, 52.02135], [-2.32474, 52.003606], [-2.326531, 51.975776], [-2.251365, 51.966557], [-2.22062, 51.995487], [-2.164429, 51.996309], [-2.18769, 52.01907], [-2.164515, 52.050037], [-2.116097, 52.03786], [-2.140047, 52.027262], [-2.15074, 52.006604], [-2.139328, 51.999406], [-2.112149, 52.015338], [-2.038364, 52.004591], [-1.984144, 52.035869], [-1.931739, 52.029949], [-1.913455, 52.044451], [-1.839061, 52.006773], [-1.825033, 52.030923], [-1.857422, 52.052227]]], [[[-6.314355, 49.913269], [-6.328412, 49.912445], [-6.301961, 49.937293], [-6.276215, 49.928625], [-6.302899, 49.902876], [-6.314355, 49.913269]]], [[[-4.676848, 51.202341], [-4.660564, 51.166492], [-4.656635, 51.163216], [-4.652027, 51.163522], [-4.650894, 51.162479], [-4.677254, 51.165617], [-4.676848, 51.202341]]], [[[-6.346818, 49.968378], [-6.322146, 49.957621], [-6.315091, 49.942396], [-6.323853, 49.943896], [-6.336951, 49.938887], [-6.346818, 49.968378]]], [[[-6.294999, 49.981264], [-6.288066, 49.978409], [-6.288089, 49.966379], [-6.26084, 49.96311], [-6.299213, 49.959867], [-6.294999, 49.981264]]], [[[-6.350991, 49.898814], [-6.334393, 49.898739], [-6.32529, 49.892585], [-6.341234, 49.882237], [-6.350991, 49.898814]]], [[[-6.359316, 49.967035], [-6.345904, 49.955081], [-6.360872, 49.941873], [-6.366778, 49.950906], [-6.359316, 49.967035]], [[-6.362937, 49.949843], [-6.363159, 49.948805], [-6.36117, 49.948526], [-6.36141, 49.949391], [-6.362937, 49.949843]]], [[[-6.354445, 49.939088], [-6.344731, 49.934689], [-6.342602, 49.930751], [-6.35887, 49.929739], [-6.354445, 49.939088]]], [[[-6.309962, 49.972301], [-6.306905, 49.964389], [-6.318604, 49.964586], [-6.319143, 49.970929], [-6.309962, 49.972301]]], [[[-6.327121, 49.975668], [-6.320647, 49.969721], [-6.338076, 49.971827], [-6.330336, 49.972207], [-6.327121, 49.975668]]], [[[-6.375433, 49.900073], [-6.369374, 49.897893], [-6.365299, 49.892651], [-6.378363, 49.895203], [-6.375433, 49.900073]]], [[[-6.261067, 49.955743], [-6.250804, 49.950496], [-6.250868, 49.949614], [-6.264552, 49.954491], [-6.261067, 49.955743]]], [[[-3.107044, 51.341661], [-3.099386, 51.340496], [-3.115329, 51.339637], [-3.114022, 51.34053], [-3.107044, 51.341661]]], [[[-4.450137, 50.339449], [-4.443987, 50.336606], [-4.443861, 50.335666], [-4.453856, 50.336258], [-4.450137, 50.339449]]], [[[-6.265843, 49.947889], [-6.261476, 49.947606], [-6.262212, 49.94197], [-6.267334, 49.9443], [-6.265843, 49.947889]]], [[[-6.334967, 49.968922], [-6.328374, 49.967766], [-6.328193, 49.965025], [-6.332974, 49.9655], [-6.334967, 49.968922]]], [[[-6.369664, 49.956046], [-6.36742, 49.954617], [-6.367445, 49.951633], [-6.371979, 49.953665], [-6.369664, 49.956046]]], [[[-6.34301, 49.940639], [-6.343774, 49.936578], [-6.340221, 49.932299], [-6.34355, 49.933876], [-6.344822, 49.938091], [-6.34301, 49.940639]]], [[[-6.274944, 49.946967], [-6.27268, 49.944185], [-6.27404, 49.942826], [-6.278644, 49.945399], [-6.274944, 49.946967]]], [[[-6.299762, 49.957174], [-6.300413, 49.956866], [-6.298631, 49.95616], [-6.295987, 49.94986], [-6.300489, 49.950286], [-6.297994, 49.952412], [-6.300985, 49.955997], [-6.300775, 49.956813], [-6.299762, 49.957174]]], [[[-6.324099, 49.965111], [-6.322272, 49.961556], [-6.326209, 49.96121], [-6.328111, 49.963528], [-6.324099, 49.965111]]], [[[-6.360895, 49.932982], [-6.360962, 49.930086], [-6.366249, 49.930346], [-6.364577, 49.932124], [-6.360895, 49.932982]]], [[[-4.157285, 50.334325], [-4.141702, 50.333184], [-4.136822, 50.333558], [-4.141672, 50.332723], [-4.15917, 50.334454], [-4.157285, 50.334325]]], [[[-4.155391, 50.35638], [-4.151481, 50.356161], [-4.150661, 50.354969], [-4.157026, 50.355813], [-4.155391, 50.35638]]], [[[-6.268869, 49.950076], [-6.266576, 49.949709], [-6.266757, 49.94851], [-6.2683, 49.947757], [-6.270041, 49.948183], [-6.271188, 49.948941], [-6.268869, 49.950076]]], [[[-4.105969, 50.308485], [-4.104634, 50.306998], [-4.109511, 50.306136], [-4.108307, 50.307999], [-4.105969, 50.308485]]], [[[-6.323019, 49.979769], [-6.320974, 49.978319], [-6.323181, 49.977241], [-6.324412, 49.978887], [-6.323019, 49.979769]]], [[[-6.379844, 49.943625], [-6.378107, 49.942114], [-6.382878, 49.943211], [-6.380302, 49.944009], [-6.379844, 49.943625]]], [[[-6.412972, 49.88074], [-6.412128, 49.88083], [-6.40953, 49.878471], [-6.414945, 49.879065], [-6.412972, 49.88074]]], [[[-6.370013, 49.876879], [-6.368132, 49.874532], [-6.369854, 49.873716], [-6.371845, 49.876052], [-6.370013, 49.876879]]], [[[-6.386021, 49.935051], [-6.384067, 49.934407], [-6.386507, 49.932146], [-6.387631, 49.93423], [-6.386021, 49.935051]]], [[[-6.245866, 49.946339], [-6.244597, 49.944597], [-6.248578, 49.945584], [-6.24809, 49.946157], [-6.245866, 49.946339]]], [[[-4.99953, 50.572854], [-4.996355, 50.572542], [-4.995243, 50.571647], [-4.998958, 50.571408], [-4.99953, 50.572854]]], [[[-6.345681, 49.939037], [-6.347891, 49.938304], [-6.34939, 49.939291], [-6.347357, 49.940219], [-6.345681, 49.939037]]], [[[-6.247837, 49.950427], [-6.246776, 49.948627], [-6.250328, 49.949225], [-6.248422, 49.950706], [-6.247837, 49.950427]]], [[[-6.399587, 49.871138], [-6.400757, 49.869126], [-6.402737, 49.869952], [-6.4022, 49.87068], [-6.399587, 49.871138]]], [[[-6.29416, 49.958024], [-6.294517, 49.956069], [-6.296517, 49.957106], [-6.293999, 49.960251], [-6.29416, 49.958024]]], [[[-6.370077, 49.890302], [-6.367703, 49.88952], [-6.367432, 49.889211], [-6.369772, 49.887838], [-6.370077, 49.890302]]], [[[-5.266098, 50.012706], [-5.264818, 50.011574], [-5.268693, 50.011929], [-5.267331, 50.013632], [-5.266098, 50.012706]]], [[[-6.398202, 49.868292], [-6.39829, 49.866643], [-6.400299, 49.868133], [-6.399213, 49.869306], [-6.398202, 49.868292]]], [[[-6.344774, 49.951737], [-6.345323, 49.948515], [-6.34646, 49.948209], [-6.346889, 49.949545], [-6.344774, 49.951737]]], [[[-6.313067, 49.963845], [-6.313696, 49.96195], [-6.315745, 49.962333], [-6.314828, 49.963383], [-6.313067, 49.963845]]], [[[-6.326031, 49.941083], [-6.324075, 49.940796], [-6.32402, 49.939597], [-6.327585, 49.94017], [-6.326031, 49.941083]]], [[[-6.388145, 49.868742], [-6.386447, 49.867962], [-6.386745, 49.867128], [-6.389162, 49.867048], [-6.388145, 49.868742]]], [[[-4.914219, 50.597785], [-4.913425, 50.596206], [-4.915743, 50.5962], [-4.915466, 50.597727], [-4.914219, 50.597785]]], [[[-6.391619, 49.947747], [-6.390803, 49.946672], [-6.392632, 49.945945], [-6.394151, 49.947569], [-6.391619, 49.947747]]], [[[-6.365776, 49.887524], [-6.365077, 49.887494], [-6.365287, 49.885964], [-6.368497, 49.886318], [-6.365776, 49.887524]]], [[[-5.722452, 50.121554], [-5.720891, 50.120075], [-5.721578, 50.119302], [-5.723266, 50.11953], [-5.722452, 50.121554]]], [[[-6.257919, 49.946711], [-6.256633, 49.945786], [-6.260765, 49.947424], [-6.260445, 49.947557], [-6.257919, 49.946711]]], [[[-6.247289, 49.951191], [-6.244957, 49.950913], [-6.244164, 49.949957], [-6.246887, 49.94998], [-6.247289, 49.951191]]], [[[-6.386085, 49.944319], [-6.385154, 49.943239], [-6.386117, 49.942186], [-6.387231, 49.94451], [-6.386085, 49.944319]]], [[[-5.531928, 50.082347], [-5.531422, 50.08165], [-5.531931, 50.080369], [-5.533816, 50.081966], [-5.531928, 50.082347]]], [[[-6.373871, 49.944472], [-6.371981, 49.943972], [-6.371374, 49.943179], [-6.373723, 49.943051], [-6.373871, 49.944472]]], [[[-4.903792, 50.196008], [-4.904713, 50.194916], [-4.905957, 50.194296], [-4.906095, 50.195545], [-4.903792, 50.196008]]], [[[-6.311734, 49.961335], [-6.313045, 49.960453], [-6.313687, 49.961208], [-6.312785, 49.962257], [-6.311734, 49.961335]]], [[[-6.405573, 49.874417], [-6.403775, 49.87424], [-6.402634, 49.872891], [-6.405347, 49.873609], [-6.405573, 49.874417]]], [[[-6.257187, 49.956707], [-6.25664, 49.955798], [-6.258638, 49.955595], [-6.258621, 49.956626], [-6.257187, 49.956707]]], [[[-4.948285, 50.592926], [-4.947522, 50.592861], [-4.946965, 50.592434], [-4.949023, 50.592039], [-4.948285, 50.592926]]], [[[-5.399462, 50.242539], [-5.40088, 50.24169], [-5.402155, 50.242093], [-5.401232, 50.242772], [-5.399462, 50.242539]]], [[[-5.74175, 50.06389], [-5.743009, 50.064328], [-5.744349, 50.065379], [-5.74215, 50.064739], [-5.74175, 50.06389]]], [[[-5.551095, 50.214154], [-5.551952, 50.213125], [-5.552781, 50.213798], [-5.551693, 50.214541], [-5.551095, 50.214154]]], [[[-6.268515, 49.956768], [-6.267534, 49.956502], [-6.269916, 49.95651], [-6.269654, 49.956667], [-6.268515, 49.956768]]], [[[-6.398667, 49.865668], [-6.398886, 49.864883], [-6.400559, 49.864794], [-6.40043, 49.865269], [-6.398667, 49.865668]]], [[[-6.416885, 49.878755], [-6.416108, 49.878619], [-6.418942, 49.877526], [-6.417964, 49.878592], [-6.416885, 49.878755]]], [[[-6.351469, 49.94118], [-6.352427, 49.940792], [-6.353181, 49.941164], [-6.351846, 49.941846], [-6.351469, 49.94118]]], [[[-5.746043, 50.06684], [-5.745085, 50.067029], [-5.745414, 50.066428], [-5.747105, 50.066953], [-5.746043, 50.06684]]], [[[-6.392816, 49.868565], [-6.392195, 49.867104], [-6.39275, 49.866821], [-6.393751, 49.868468], [-6.392816, 49.868565]]], [[[-4.726795, 50.682723], [-4.72746, 50.682567], [-4.728426, 50.682701], [-4.727592, 50.683439], [-4.726795, 50.682723]]], [[[-4.704313, 50.693311], [-4.704541, 50.69268], [-4.706108, 50.692742], [-4.705853, 50.69301], [-4.704313, 50.693311]]], [[[-6.397262, 49.866543], [-6.398222, 49.865939], [-6.398901, 49.866357], [-6.397504, 49.866757], [-6.397262, 49.866543]]], [[[-5.744292, 50.065897], [-5.744506, 50.06596], [-5.744682, 50.066684], [-5.743838, 50.066377], [-5.744292, 50.065897]]], [[[-6.402124, 49.872347], [-6.401637, 49.872142], [-6.402951, 49.872086], [-6.402212, 49.872434], [-6.402124, 49.872347]]], [[[-6.385488, 49.866791], [-6.386113, 49.866559], [-6.386418, 49.867395], [-6.386221, 49.867419], [-6.385488, 49.866791]]], [[[-5.23227, 50.333897], [-5.232801, 50.333817], [-5.23325, 50.333944], [-5.23246, 50.334226], [-5.23227, 50.333897]]]], &quot;type&quot;: &quot;MultiPolygon&quot;}, &quot;id&quot;: &quot;0&quot;, &quot;properties&quot;: {&quot;Region&quot;: &quot;South West&quot;, &quot;Total&quot;: 27645.0, &quot;cartodb_id&quot;: 6, &quot;geo_code&quot;: &quot;E12000009&quot;, &quot;name&quot;: &quot;South West&quot;}, &quot;type&quot;: &quot;Feature&quot;}, {&quot;bbox&quot;: [-0.5103, 51.28676, 0.333995, 51.688112], &quot;geometry&quot;: {&quot;coordinates&quot;: [[[[-0.055485, 51.683163], [-0.011092, 51.680867], [-0.012285, 51.64623], [0.022693, 51.641114], [0.021793, 51.628831], [0.072805, 51.604686], [0.22406, 51.631734], [0.333995, 51.540502], [0.237148, 51.519334], [0.241991, 51.507966], [0.210525, 51.490243], [0.223676, 51.482272], [0.203352, 51.454354], [0.153737, 51.427523], [0.162359, 51.39249], [0.147508, 51.392157], [0.14259, 51.350735], [0.085001, 51.316023], [0.091069, 51.296761], [0.058629, 51.289365], [0.032881, 51.307521], [0.014982, 51.291787], [0.002266, 51.329138], [-0.037919, 51.338705], [-0.124319, 51.28676], [-0.155344, 51.301277], [-0.16314, 51.330243], [-0.197398, 51.343595], [-0.229232, 51.33589], [-0.217803, 51.345633], [-0.246113, 51.38019], [-0.328315, 51.326464], [-0.330534, 51.348421], [-0.307389, 51.378385], [-0.317292, 51.393353], [-0.389198, 51.410319], [-0.391373, 51.422332], [-0.45649, 51.438107], [-0.458663, 51.456315], [-0.5103, 51.46776], [-0.483194, 51.506646], [-0.495508, 51.538544], [-0.476617, 51.558029], [-0.499576, 51.592181], [-0.497424, 51.631574], [-0.457152, 51.612291], [-0.40135, 51.613172], [-0.316697, 51.640532], [-0.257357, 51.641829], [-0.163518, 51.688112], [-0.055485, 51.683163]]]], &quot;type&quot;: &quot;MultiPolygon&quot;}, &quot;id&quot;: &quot;1&quot;, &quot;properties&quot;: {&quot;Region&quot;: &quot;London&quot;, &quot;Total&quot;: 62164.0, &quot;cartodb_id&quot;: 5, &quot;geo_code&quot;: &quot;E12000007&quot;, &quot;name&quot;: &quot;London&quot;}, &quot;type&quot;: &quot;Feature&quot;}, {&quot;bbox&quot;: [-0.745161, 51.449154, 1.768662, 52.992651], &quot;geometry&quot;: {&quot;coordinates&quot;: [[[[1.229874, 52.944783], [1.314481, 52.930073], [1.431195, 52.88413], [1.680932, 52.738485], [1.743855, 52.634749], [1.73282, 52.556855], [1.768662, 52.482886], [1.734739, 52.447983], [1.730309, 52.400595], [1.677552, 52.312871], [1.634067, 52.278067], [1.622729, 52.186908], [1.581, 52.085774], [1.472338, 52.049598], [1.431223, 52.004627], [1.319491, 51.932118], [1.31626, 51.950875], [1.293835, 51.961094], [1.219826, 51.952303], [1.290434, 51.949704], [1.296593, 51.935567], [1.270678, 51.924966], [1.253636, 51.892382], [1.2932, 51.872873], [1.280486, 51.842957], [1.219003, 51.809457], [1.132226, 51.776811], [1.051744, 51.767564], [1.005629, 51.800266], [0.994901, 51.775119], [0.90979, 51.770507], [0.868392, 51.747125], [0.957121, 51.744565], [0.981888, 51.697535], [0.970149, 51.650336], [0.899683, 51.616494], [1.044523, 51.656203], [1.083803, 51.649431], [1.055423, 51.634896], [1.053424, 51.644093], [1.027781, 51.640749], [1.043477, 51.637243], [1.006211, 51.629176], [1.032591, 51.628608], [1.038702, 51.623973], [1.007759, 51.620245], [1.021451, 51.616471], [0.99452, 51.602065], [1.013613, 51.602815], [0.956968, 51.576979], [0.987204, 51.580892], [0.928501, 51.569277], [0.99301, 51.571274], [0.9817, 51.557224], [0.909631, 51.558666], [0.952918, 51.538221], [0.879623, 51.54012], [0.939323, 51.525105], [0.893319, 51.521884], [0.90646, 51.53171], [0.872305, 51.53562], [0.870752, 51.535193], [0.881896, 51.533874], [0.889966, 51.529871], [0.852839, 51.523949], [0.878691, 51.513786], [0.847338, 51.509172], [0.852727, 51.516146], [0.845037, 51.521383], [0.838948, 51.522184], [0.841472, 51.507956], [0.787059, 51.504459], [0.776696, 51.511244], [0.789356, 51.510508], [0.794322, 51.512008], [0.781712, 51.512455], [0.786383, 51.518857], [0.774131, 51.522512], [0.767812, 51.507383], [0.700796, 51.527009], [0.677647, 51.521622], [0.677893, 51.503682], [0.474105, 51.495689], [0.442024, 51.456411], [0.412034, 51.449154], [0.339974, 51.449876], [0.313385, 51.470107], [0.27572, 51.457671], [0.213046, 51.495021], [0.241991, 51.507966], [0.248937, 51.528673], [0.263654, 51.517868], [0.265319, 51.532149], [0.333873, 51.542492], [0.313007, 51.565816], [0.290262, 51.564298], [0.253267, 51.617119], [0.22406, 51.631734], [0.072805, 51.604686], [0.021793, 51.628831], [0.022693, 51.641114], [-0.012285, 51.64623], [-0.011092, 51.680867], [-0.104874, 51.691848], [-0.163518, 51.688112], [-0.257357, 51.641829], [-0.316697, 51.640532], [-0.399487, 51.613404], [-0.457152, 51.612291], [-0.497247, 51.631654], [-0.496707, 51.601376], [-0.517741, 51.60022], [-0.536968, 51.660411], [-0.50513, 51.673073], [-0.548718, 51.682667], [-0.54404, 51.696812], [-0.563232, 51.711874], [-0.550106, 51.730569], [-0.586403, 51.752109], [-0.669689, 51.766153], [-0.685419, 51.800178], [-0.745161, 51.838053], [-0.696398, 51.858128], [-0.667226, 51.815799], [-0.58185, 51.806897], [-0.560637, 51.830103], [-0.537654, 51.831402], [-0.583589, 51.870315], [-0.702181, 51.90911], [-0.645704, 51.972218], [-0.661712, 51.999726], [-0.643499, 52.010844], [-0.643075, 52.037242], [-0.668997, 52.048706], [-0.59183, 52.11068], [-0.60727, 52.133858], [-0.635471, 52.139243], [-0.627465, 52.181533], [-0.667963, 52.19406], [-0.637349, 52.227304], [-0.653672, 52.268275], [-0.610633, 52.279484], [-0.56571, 52.253455], [-0.540404, 52.256821], [-0.541986, 52.289928], [-0.519847, 52.317678], [-0.4647, 52.324745], [-0.498716, 52.360081], [-0.495963, 52.3795], [-0.441527, 52.384981], [-0.362426, 52.433514], [-0.371882, 52.437043], [-0.341608, 52.466925], [-0.354362, 52.506477], [-0.413618, 52.525662], [-0.401299, 52.538667], [-0.419608, 52.558944], [-0.407305, 52.564037], [-0.415395, 52.578725], [-0.478828, 52.573627], [-0.497664, 52.586833], [-0.470973, 52.617935], [-0.491808, 52.642004], [-0.405693, 52.648028], [-0.334998, 52.674852], [-0.260648, 52.651394], [-0.206052, 52.668054], [-0.192882, 52.652419], [-0.141078, 52.651488], [-0.06373, 52.675214], [0.021484, 52.664868], [0.048832, 52.681751], [0.044135, 52.714362], [0.063613, 52.727371], [0.186309, 52.735329], [0.272193, 52.772785], [0.24507, 52.784503], [0.272992, 52.824206], [0.217243, 52.828259], [0.214938, 52.849579], [0.2466, 52.846252], [0.236629, 52.857762], [0.246107, 52.868856], [0.240126, 52.858065], [0.281464, 52.839208], [0.275882, 52.85674], [0.337795, 52.831947], [0.343621, 52.827025], [0.337008, 52.823976], [0.335095, 52.820586], [0.3362, 52.817159], [0.339991, 52.812827], [0.348514, 52.835307], [0.353116, 52.808458], [0.370167, 52.789948], [0.354392, 52.812493], [0.355095, 52.842822], [0.35621, 52.829902], [0.358549, 52.828688], [0.362066, 52.829913], [0.404431, 52.882984], [0.432576, 52.875896], [0.440842, 52.900832], [0.427726, 52.8989], [0.424466, 52.899785], [0.424881, 52.900747], [0.445055, 52.90141], [0.489747, 52.955887], [0.53435, 52.978201], [0.673774, 52.990067], [0.813371, 52.979533], [0.847018, 52.992651], [1.229874, 52.944783]]]], &quot;type&quot;: &quot;MultiPolygon&quot;}, &quot;id&quot;: &quot;2&quot;, &quot;properties&quot;: {&quot;Region&quot;: &quot;East of England&quot;, &quot;Total&quot;: 35361.0, &quot;cartodb_id&quot;: 1, &quot;geo_code&quot;: &quot;E12000006&quot;, &quot;name&quot;: &quot;East of England&quot;}, &quot;type&quot;: &quot;Feature&quot;}, {&quot;bbox&quot;: [-2.564739, 53.301558, 0.144007, 54.561754], &quot;geometry&quot;: {&quot;coordinates&quot;: [[[[-0.3025, 54.227545], [-0.255772, 54.215339], [-0.281502, 54.202208], [-0.246661, 54.168551], [-0.075011, 54.115826], [-0.193325, 54.080103], [-0.212877, 54.038372], [-0.204387, 53.990648], [-0.121657, 53.866076], [0.12122, 53.661632], [0.144007, 53.594575], [0.110301, 53.570595], [0.118673, 53.593652], [0.09976, 53.610172], [0.105262, 53.595025], [0.087361, 53.596052], [0.083099, 53.613132], [0.076962, 53.615683], [0.074724, 53.619672], [0.07228, 53.620972], [0.081722, 53.600079], [0.053607, 53.612697], [0.056208, 53.614387], [0.06128, 53.620665], [-0.090309, 53.628989], [-0.12689, 53.644898], [-0.111893, 53.63591], [-0.122545, 53.63535], [-0.252035, 53.732055], [-0.441794, 53.714323], [-0.433838, 53.699166], [-0.280884, 53.711887], [-0.188016, 53.630555], [-0.009149, 53.569346], [-0.019414, 53.566189], [0.032788, 53.536781], [-0.01452, 53.515387], [-0.065284, 53.518563], [-0.075258, 53.489311], [-0.107861, 53.469869], [-0.082206, 53.451126], [-0.120337, 53.433575], [-0.144443, 53.440926], [-0.153706, 53.46571], [-0.210601, 53.486264], [-0.204082, 53.511743], [-0.219815, 53.532592], [-0.192044, 53.568799], [-0.222647, 53.568012], [-0.300925, 53.616366], [-0.300775, 53.595197], [-0.335824, 53.558664], [-0.428997, 53.574504], [-0.490903, 53.545838], [-0.501226, 53.53744], [-0.430697, 53.546303], [-0.405054, 53.517574], [-0.487603, 53.50518], [-0.486659, 53.480612], [-0.471747, 53.474851], [-0.55179, 53.459565], [-0.62975, 53.458197], [-0.624478, 53.5128], [-0.739589, 53.519915], [-0.79748, 53.455043], [-0.916263, 53.460282], [-0.900531, 53.475135], [-0.935578, 53.502478], [-0.986018, 53.471621], [-0.995905, 53.436831], [-1.014283, 53.426257], [-1.080364, 53.426864], [-1.115982, 53.407389], [-1.145961, 53.369618], [-1.138528, 53.355821], [-1.162647, 53.356824], [-1.138686, 53.341376], [-1.203176, 53.30417], [-1.243574, 53.301558], [-1.294414, 53.314255], [-1.288584, 53.326215], [-1.306007, 53.33374], [-1.337751, 53.315828], [-1.386843, 53.317596], [-1.38666, 53.334838], [-1.408715, 53.341971], [-1.536915, 53.304713], [-1.585033, 53.321572], [-1.628286, 53.316353], [-1.612228, 53.343193], [-1.590549, 53.345903], [-1.66273, 53.366162], [-1.654697, 53.392957], [-1.746574, 53.426], [-1.745286, 53.462108], [-1.801472, 53.480976], [-1.80078, 53.511363], [-1.873494, 53.540414], [-1.909622, 53.538375], [-2.023037, 53.615824], [-2.051242, 53.683676], [-2.118085, 53.67123], [-2.162583, 53.699206], [-2.173294, 53.722997], [-2.130834, 53.752056], [-2.128359, 53.799004], [-2.046922, 53.829496], [-2.046129, 53.850128], [-2.089912, 53.868168], [-2.081445, 53.875665], [-2.11309, 53.915425], [-2.182279, 53.935376], [-2.196016, 53.969562], [-2.225733, 53.961086], [-2.230342, 53.981517], [-2.294317, 53.97442], [-2.319149, 53.993829], [-2.352355, 53.994661], [-2.352308, 54.010526], [-2.339558, 54.00942], [-2.374069, 54.049076], [-2.464354, 54.043034], [-2.464345, 54.075267], [-2.524007, 54.094611], [-2.564739, 54.127026], [-2.560503, 54.153041], [-2.533977, 54.157681], [-2.460859, 54.226705], [-2.405628, 54.224904], [-2.362313, 54.249741], [-2.325643, 54.241427], [-2.323028, 54.311072], [-2.309838, 54.324304], [-2.334745, 54.334933], [-2.335763, 54.340424], [-2.35967, 54.350256], [-2.361559, 54.35242], [-2.367152, 54.354922], [-2.367708, 54.35606], [-2.297436, 54.376888], [-2.308141, 54.419784], [-2.292861, 54.439298], [-2.043194, 54.48359], [-1.942537, 54.453386], [-1.859124, 54.481847], [-1.857794, 54.50353], [-1.839425, 54.508428], [-1.792938, 54.484357], [-1.776123, 54.506717], [-1.779689, 54.531863], [-1.733082, 54.527726], [-1.720307, 54.542338], [-1.58106, 54.512835], [-1.591873, 54.50429], [-1.545816, 54.471265], [-1.491766, 54.486189], [-1.49878, 54.475332], [-1.475455, 54.473896], [-1.460875, 54.451126], [-1.458464, 54.492828], [-1.475588, 54.498328], [-1.461584, 54.504285], [-1.417876, 54.477075], [-1.406888, 54.493617], [-1.380999, 54.494017], [-1.37255, 54.472296], [-1.343896, 54.464139], [-1.257391, 54.487309], [-1.230591, 54.511869], [-0.848515, 54.487959], [-0.847949, 54.530816], [-0.780557, 54.561754], [-0.74471, 54.529105], [-0.707067, 54.534506], [-0.663985, 54.500789], [-0.588273, 54.490391], [-0.533804, 54.457212], [-0.519152, 54.445453], [-0.523294, 54.418141], [-0.47027, 54.396917], [-0.416064, 54.332255], [-0.408038, 54.296527], [-0.383804, 54.286802], [-0.393853, 54.274252], [-0.365833, 54.247318], [-0.3025, 54.227545]]]], &quot;type&quot;: &quot;MultiPolygon&quot;}, &quot;id&quot;: &quot;3&quot;, &quot;properties&quot;: {&quot;Region&quot;: &quot;Yorkshire and The Humber&quot;, &quot;Total&quot;: 29282.0, &quot;cartodb_id&quot;: 2, &quot;geo_code&quot;: &quot;E12000003&quot;, &quot;name&quot;: &quot;Yorkshire and The Humber&quot;}, &quot;type&quot;: &quot;Feature&quot;}, {&quot;bbox&quot;: [-1.956977, 50.574791, 1.451769, 52.195253], &quot;geometry&quot;: {&quot;coordinates&quot;: [[[[-0.444293, 51.43485], [-0.316345, 51.39256], [-0.307389, 51.378385], [-0.330534, 51.348421], [-0.328315, 51.326464], [-0.245056, 51.380034], [-0.217803, 51.345633], [-0.229232, 51.33589], [-0.197398, 51.343595], [-0.16314, 51.330243], [-0.155344, 51.301277], [-0.124319, 51.28676], [-0.037919, 51.338705], [0.002266, 51.329138], [0.014982, 51.291787], [0.032881, 51.307521], [0.04237, 51.292679], [0.085789, 51.29315], [0.085001, 51.316023], [0.151597, 51.368388], [0.155848, 51.430877], [0.223676, 51.482272], [0.27572, 51.457671], [0.313385, 51.470107], [0.339974, 51.449876], [0.408847, 51.448836], [0.442024, 51.456411], [0.469235, 51.493965], [0.538685, 51.503136], [0.677893, 51.503682], [0.678069, 51.487232], [0.734351, 51.472253], [0.743292, 51.447107], [0.947357, 51.397467], [0.971089, 51.369152], [0.96455, 51.35667], [1.034329, 51.373241], [1.430665, 51.398799], [1.451769, 51.375644], [1.4303, 51.326749], [1.392591, 51.322442], [1.386626, 51.318242], [1.405292, 51.22943], [1.397822, 51.157216], [1.313568, 51.119018], [1.327793, 51.111362], [1.221105, 51.098105], [1.19492, 51.075951], [1.097026, 51.067592], [1.031579, 51.044741], [0.97542, 50.992664], [0.980197, 50.913323], [0.775942, 50.925954], [0.651193, 50.866837], [0.358231, 50.813428], [0.256692, 50.734234], [0.120587, 50.757478], [0.068253, 50.781821], [-0.244606, 50.828369], [-0.696332, 50.777579], [-0.79832, 50.722384], [-0.915836, 50.776682], [-1.019252, 50.784129], [-1.011306, 50.77123], [-1.023019, 50.787354], [-1.142023, 50.773365], [-1.326371, 50.852778], [-1.33835, 50.845173], [-1.315628, 50.825106], [-1.326103, 50.816617], [-1.30327, 50.809793], [-1.347272, 50.783624], [-1.515654, 50.742348], [-1.557278, 50.706184], [-1.692075, 50.736639], [-1.681813, 50.75183], [-1.744176, 50.747466], [-1.749066, 50.779521], [-1.785682, 50.764826], [-1.812137, 50.806502], [-1.790712, 50.836401], [-1.807117, 50.863324], [-1.853546, 50.863469], [-1.848563, 50.889896], [-1.816549, 50.903956], [-1.810762, 50.927169], [-1.873716, 50.917261], [-1.956977, 50.98222], [-1.87449, 51.006337], [-1.873992, 50.984448], [-1.835821, 51.009429], [-1.81543, 50.985929], [-1.719627, 50.976787], [-1.661669, 50.945286], [-1.623411, 50.954645], [-1.602984, 50.978423], [-1.628818, 50.99827], [-1.597353, 51.009759], [-1.634953, 51.040567], [-1.626263, 51.117343], [-1.662987, 51.127197], [-1.654056, 51.156288], [-1.668847, 51.190777], [-1.694109, 51.204048], [-1.633552, 51.21752], [-1.607435, 51.252769], [-1.536046, 51.248533], [-1.542596, 51.281254], [-1.519525, 51.295942], [-1.533575, 51.316226], [-1.527522, 51.338469], [-1.498313, 51.329379], [-1.485727, 51.347726], [-1.500624, 51.35627], [-1.495464, 51.369667], [-1.570934, 51.415309], [-1.526633, 51.423932], [-1.524006, 51.447481], [-1.582305, 51.494111], [-1.584788, 51.524994], [-1.602826, 51.518295], [-1.647704, 51.571951], [-1.691124, 51.583523], [-1.69063, 51.605449], [-1.659969, 51.635057], [-1.691952, 51.652162], [-1.696918, 51.681532], [-1.648268, 51.684083], [-1.688014, 51.71204], [-1.687034, 51.739879], [-1.719501, 51.783206], [-1.681944, 51.803986], [-1.68688, 51.865492], [-1.658664, 51.896543], [-1.633063, 51.899217], [-1.645543, 51.922285], [-1.615202, 51.937673], [-1.662541, 51.963995], [-1.665766, 51.987478], [-1.612355, 51.955394], [-1.591647, 51.97044], [-1.595811, 51.972554], [-1.596702, 51.974268], [-1.598531, 51.975346], [-1.600367, 51.97677], [-1.600314, 51.976932], [-1.525328, 51.992844], [-1.487817, 52.093944], [-1.447201, 52.097612], [-1.453477, 52.112986], [-1.425868, 52.118236], [-1.385344, 52.094172], [-1.357784, 52.101299], [-1.393316, 52.11895], [-1.348724, 52.135125], [-1.331911, 52.168471], [-1.248101, 52.097149], [-1.32118, 52.087008], [-1.297524, 52.078046], [-1.312936, 52.051442], [-1.278164, 52.014228], [-1.283509, 51.979614], [-1.197854, 51.977268], [-1.134347, 51.997286], [-1.118104, 52.015416], [-1.136678, 52.022221], [-1.119706, 52.046479], [-1.026423, 52.064406], [-1.04213, 52.073925], [-0.951891, 52.081522], [-0.908395, 52.022229], [-0.880185, 52.028725], [-0.852464, 52.050694], [-0.862752, 52.060876], [-0.831437, 52.071935], [-0.887032, 52.114197], [-0.88072, 52.126325], [-0.828222, 52.132598], [-0.831983, 52.143671], [-0.807605, 52.156966], [-0.792109, 52.151317], [-0.777993, 52.16872], [-0.749753, 52.166865], [-0.694097, 52.195253], [-0.627465, 52.181533], [-0.635471, 52.139243], [-0.60727, 52.133858], [-0.59183, 52.11068], [-0.668997, 52.048706], [-0.643075, 52.037242], [-0.643499, 52.010844], [-0.661712, 51.999726], [-0.645704, 51.972218], [-0.702181, 51.90911], [-0.583589, 51.870315], [-0.537654, 51.831402], [-0.560637, 51.830103], [-0.58185, 51.806897], [-0.667226, 51.815799], [-0.696398, 51.858128], [-0.745272, 51.838369], [-0.685419, 51.800178], [-0.669689, 51.766153], [-0.553668, 51.734011], [-0.563232, 51.711874], [-0.54404, 51.696812], [-0.548718, 51.682667], [-0.507949, 51.677975], [-0.536914, 51.660621], [-0.539282, 51.638037], [-0.476616, 51.558045], [-0.495508, 51.538544], [-0.483194, 51.506646], [-0.51034, 51.467845], [-0.458663, 51.456315], [-0.444293, 51.43485]]], [[[-1.274042, 50.766057], [-1.214562, 50.734051], [-1.144396, 50.730494], [-1.141025, 50.741274], [-1.132107, 50.743424], [-1.122722, 50.742431], [-1.134878, 50.737984], [-1.062737, 50.683992], [-1.15801, 50.650322], [-1.182054, 50.597466], [-1.292361, 50.574791], [-1.485406, 50.666648], [-1.587732, 50.663045], [-1.523185, 50.707014], [-1.355413, 50.73971], [-1.313854, 50.767519], [-1.274042, 50.766057]]], [[[-1.083102, 50.705026], [-1.083466, 50.704501], [-1.086411, 50.704965], [-1.083522, 50.705368], [-1.083102, 50.705026]]], [[[-1.094885, 50.739775], [-1.095345, 50.739954], [-1.095298, 50.740251], [-1.094453, 50.740218], [-1.094885, 50.739775]]], [[[-1.072158, 50.750161], [-1.072479, 50.750283], [-1.072421, 50.750524], [-1.071868, 50.750471], [-1.072158, 50.750161]]], [[[-1.590461, 50.662524], [-1.590264, 50.662446], [-1.591732, 50.662254], [-1.591609, 50.662373], [-1.590461, 50.662524]]], [[[-1.098916, 50.770342], [-1.099229, 50.770455], [-1.099195, 50.770662], [-1.098648, 50.770634], [-1.098916, 50.770342]]], [[[-1.588803, 50.662714], [-1.589295, 50.662564], [-1.589932, 50.662627], [-1.588873, 50.66279], [-1.588803, 50.662714]]]], &quot;type&quot;: &quot;MultiPolygon&quot;}, &quot;id&quot;: &quot;4&quot;, &quot;properties&quot;: {&quot;Region&quot;: &quot;South East&quot;, &quot;Total&quot;: 49677.0, &quot;cartodb_id&quot;: 3, &quot;geo_code&quot;: &quot;E12000008&quot;, &quot;name&quot;: &quot;South East&quot;}, &quot;type&quot;: &quot;Feature&quot;}, {&quot;bbox&quot;: [-3.235564, 51.825962, -1.17214, 53.226224], &quot;geometry&quot;: {&quot;coordinates&quot;: [[[[-1.537314, 52.5889], [-1.522286, 52.570338], [-1.307151, 52.494227], [-1.17214, 52.361285], [-1.262709, 52.33372], [-1.209248, 52.315188], [-1.233797, 52.290312], [-1.215916, 52.263948], [-1.284658, 52.238562], [-1.254998, 52.197817], [-1.313148, 52.190454], [-1.348724, 52.135125], [-1.393316, 52.11895], [-1.357784, 52.101299], [-1.385344, 52.094172], [-1.424976, 52.118264], [-1.453477, 52.112986], [-1.447201, 52.097612], [-1.477314, 52.101338], [-1.501868, 52.071614], [-1.524874, 51.993266], [-1.600314, 51.976932], [-1.591647, 51.97044], [-1.612355, 51.955394], [-1.6699, 51.993079], [-1.617546, 52.033425], [-1.693995, 52.039514], [-1.701743, 52.072797], [-1.730683, 52.073387], [-1.728572, 52.100107], [-1.746034, 52.092947], [-1.767659, 52.11258], [-1.812747, 52.078732], [-1.874416, 52.06998], [-1.825033, 52.030923], [-1.839061, 52.006773], [-1.913455, 52.044451], [-1.931739, 52.029949], [-1.984144, 52.035869], [-2.038364, 52.004591], [-2.112149, 52.015338], [-2.140694, 51.999455], [-2.15074, 52.006604], [-2.140047, 52.027262], [-2.116097, 52.03786], [-2.162044, 52.050557], [-2.18769, 52.019071], [-2.164922, 51.99595], [-2.22062, 51.995487], [-2.251365, 51.966557], [-2.300437, 51.966767], [-2.326568, 51.975802], [-2.32474, 52.003606], [-2.351382, 52.02135], [-2.421014, 51.994233], [-2.437295, 51.997158], [-2.436116, 52.014565], [-2.474282, 52.023755], [-2.492112, 52.008287], [-2.470994, 51.994728], [-2.500907, 51.960601], [-2.465488, 51.951688], [-2.466043, 51.927966], [-2.439358, 51.897387], [-2.508623, 51.885161], [-2.531623, 51.860764], [-2.601215, 51.856209], [-2.651845, 51.825962], [-2.719708, 51.848791], [-2.738864, 51.83666], [-2.778838, 51.865954], [-2.768328, 51.880499], [-2.841904, 51.91772], [-2.861915, 51.914012], [-2.844859, 51.921985], [-2.877831, 51.933807], [-2.971841, 51.904976], [-2.97666, 51.927484], [-3.008117, 51.927124], [-3.068307, 51.983888], [-3.099193, 52.022679], [-3.090582, 52.050506], [-3.125972, 52.078324], [-3.10498, 52.11672], [-3.141915, 52.127859], [-3.072535, 52.155765], [-3.122427, 52.163411], [-3.094722, 52.183722], [-3.101792, 52.202636], [-3.072092, 52.213078], [-3.073038, 52.235867], [-3.044165, 52.237935], [-3.03601, 52.256759], [-2.949635, 52.269457], [-3.012604, 52.279254], [-3.000868, 52.321753], [-2.966842, 52.329489], [-2.954589, 52.348994], [-3.060666, 52.348227], [-3.219742, 52.421308], [-3.235564, 52.442549], [-3.197307, 52.476003], [-3.029204, 52.501253], [-3.032417, 52.523692], [-3.000882, 52.523996], [-2.994181, 52.552932], [-3.014521, 52.575485], [-3.087283, 52.551272], [-3.085379, 52.534521], [-3.137002, 52.532665], [-3.111487, 52.541398], [-3.139591, 52.585709], [-3.089359, 52.599572], [-3.059791, 52.630677], [-3.083524, 52.641272], [-3.05109, 52.647306], [-3.046961, 52.691214], [-3.021529, 52.724188], [-2.961065, 52.716366], [-2.96504, 52.732213], [-3.021781, 52.751915], [-3.017098, 52.767672], [-3.079525, 52.77155], [-3.086756, 52.79559], [-3.118338, 52.783641], [-3.161004, 52.795937], [-3.153186, 52.806327], [-3.167845, 52.819261], [-3.151324, 52.842567], [-3.163071, 52.847472], [-3.127722, 52.867239], [-3.152521, 52.879725], [-3.113835, 52.89421], [-3.098583, 52.928852], [-3.037019, 52.928708], [-2.974956, 52.968969], [-2.92888, 52.938653], [-2.88747, 52.952501], [-2.841052, 52.942546], [-2.800461, 52.895448], [-2.728533, 52.925162], [-2.73532, 52.970001], [-2.699293, 52.995425], [-2.674663, 52.985649], [-2.632651, 52.996657], [-2.594889, 52.979592], [-2.586485, 52.955398], [-2.561263, 52.964937], [-2.531894, 52.947248], [-2.52132, 52.974286], [-2.481154, 52.958802], [-2.434614, 52.969506], [-2.438264, 52.985507], [-2.38028, 52.99877], [-2.370467, 53.014559], [-2.381471, 53.052378], [-2.347585, 53.056154], [-2.318051, 53.081342], [-2.246521, 53.090194], [-2.155646, 53.159601], [-2.141413, 53.156635], [-2.140441, 53.183795], [-2.112078, 53.168642], [-2.070178, 53.17168], [-2.04653, 53.19263], [-2.000205, 53.193719], [-1.962368, 53.226224], [-1.832128, 53.172853], [-1.812028, 53.152726], [-1.821443, 53.135792], [-1.783729, 53.10281], [-1.794244, 53.088376], [-1.775657, 53.059337], [-1.784699, 53.049913], [-1.759781, 53.038697], [-1.75775, 53.01698], [-1.762574, 52.999651], [-1.826784, 52.977068], [-1.829822, 52.945654], [-1.854219, 52.930635], [-1.832717, 52.887082], [-1.77712, 52.883775], [-1.725327, 52.859645], [-1.626956, 52.854464], [-1.585467, 52.831612], [-1.610499, 52.816387], [-1.588875, 52.799848], [-1.611134, 52.781386], [-1.666542, 52.784705], [-1.704564, 52.731213], [-1.656614, 52.721731], [-1.655048, 52.698782], [-1.591173, 52.698183], [-1.552794, 52.668429], [-1.5432, 52.646788], [-1.571361, 52.635034], [-1.554468, 52.614718], [-1.560758, 52.596131], [-1.537314, 52.5889]]]], &quot;type&quot;: &quot;MultiPolygon&quot;}, &quot;id&quot;: &quot;5&quot;, &quot;properties&quot;: {&quot;Region&quot;: &quot;West Midlands&quot;, &quot;Total&quot;: 15024.0, &quot;cartodb_id&quot;: 7, &quot;geo_code&quot;: &quot;E12000005&quot;, &quot;name&quot;: &quot;West Midlands&quot;}, &quot;type&quot;: &quot;Feature&quot;}, {&quot;bbox&quot;: [-2.033851, 51.977357, 0.357923, 53.616366], &quot;geometry&quot;: {&quot;coordinates&quot;: [[[[-1.193364, 52.385815], [-1.307151, 52.494227], [-1.560758, 52.596131], [-1.554468, 52.614718], [-1.571289, 52.635582], [-1.542429, 52.653609], [-1.590817, 52.698007], [-1.655048, 52.698782], [-1.656614, 52.721731], [-1.703781, 52.729869], [-1.666542, 52.784705], [-1.611134, 52.781386], [-1.588875, 52.799848], [-1.610499, 52.816387], [-1.585467, 52.831612], [-1.626956, 52.854464], [-1.725327, 52.859645], [-1.77712, 52.883775], [-1.832717, 52.887082], [-1.854219, 52.930635], [-1.829822, 52.945654], [-1.826784, 52.977068], [-1.762529, 52.999693], [-1.756779, 53.030897], [-1.784699, 53.049913], [-1.775657, 53.059337], [-1.794244, 53.088376], [-1.783729, 53.10281], [-1.821443, 53.135792], [-1.812028, 53.152726], [-1.832072, 53.17281], [-1.962368, 53.226224], [-1.989643, 53.215771], [-1.974862, 53.231044], [-2.009484, 53.260636], [-2.006787, 53.354556], [-2.033851, 53.375153], [-2.004644, 53.386311], [-1.992332, 53.415177], [-2.027279, 53.432298], [-1.985656, 53.455296], [-1.970481, 53.505144], [-1.921975, 53.509938], [-1.914038, 53.536859], [-1.875085, 53.540452], [-1.80078, 53.511363], [-1.801472, 53.480976], [-1.745286, 53.462108], [-1.746574, 53.426], [-1.654697, 53.392957], [-1.66273, 53.366162], [-1.590549, 53.345903], [-1.612228, 53.343193], [-1.628162, 53.316285], [-1.585033, 53.321572], [-1.536915, 53.304713], [-1.408715, 53.341971], [-1.38666, 53.334838], [-1.386843, 53.317596], [-1.337751, 53.315828], [-1.306007, 53.33374], [-1.282003, 53.309459], [-1.203176, 53.30417], [-1.138686, 53.341376], [-1.162647, 53.356824], [-1.138528, 53.355821], [-1.145961, 53.369618], [-1.115982, 53.407389], [-1.080364, 53.426864], [-1.014283, 53.426257], [-0.995905, 53.436831], [-0.986018, 53.471621], [-0.935578, 53.502478], [-0.900531, 53.475135], [-0.916263, 53.460282], [-0.79748, 53.455043], [-0.739589, 53.519915], [-0.624478, 53.5128], [-0.62975, 53.458197], [-0.55179, 53.459565], [-0.471747, 53.474851], [-0.486659, 53.480612], [-0.487603, 53.50518], [-0.405054, 53.517574], [-0.430697, 53.546303], [-0.501226, 53.53744], [-0.490903, 53.545838], [-0.428997, 53.574504], [-0.335824, 53.558664], [-0.300775, 53.595197], [-0.300925, 53.616366], [-0.222647, 53.568012], [-0.189605, 53.566229], [-0.219815, 53.532592], [-0.204082, 53.511743], [-0.210601, 53.486264], [-0.153706, 53.46571], [-0.131805, 53.435913], [-0.082206, 53.451126], [-0.107861, 53.469869], [-0.075258, 53.489311], [-0.06474, 53.518835], [-0.01452, 53.515387], [0.032788, 53.536781], [0.147899, 53.498707], [0.234468, 53.409608], [0.328668, 53.263961], [0.357923, 53.180647], [0.344806, 53.09873], [0.31787, 53.041174], [0.168992, 52.984671], [0.098728, 52.945754], [0.053216, 52.913721], [0.051562, 52.915542], [0.049931, 52.916152], [0.049578, 52.917869], [0.048162, 52.920133], [0.045498, 52.922287], [0.044611, 52.925649], [0.042098, 52.928277], [0.04504, 52.922519], [0.049716, 52.916128], [0.05308, 52.913627], [0.026813, 52.898707], [0.038657, 52.903489], [0.087824, 52.934896], [0.081687, 52.925436], [0.131122, 52.940465], [0.116059, 52.922315], [0.109219, 52.920475], [0.105926, 52.922326], [0.098787, 52.923758], [0.095647, 52.92406], [0.093614, 52.923434], [0.112606, 52.916801], [0.088132, 52.910084], [0.104563, 52.909824], [0.117287, 52.914761], [0.147787, 52.947384], [0.193809, 52.959038], [0.19899, 52.96257], [0.19079, 52.959613], [0.16934, 52.962951], [0.170301, 52.965427], [0.223031, 52.9688], [0.228946, 52.939687], [0.197509, 52.945735], [0.144829, 52.930219], [0.123496, 52.912762], [0.212541, 52.928895], [0.208933, 52.916903], [0.176279, 52.920411], [0.166488, 52.918688], [0.161239, 52.915528], [0.189011, 52.917463], [0.178507, 52.903062], [0.206586, 52.904968], [0.217535, 52.889427], [0.217243, 52.828259], [0.272992, 52.824206], [0.24507, 52.784503], [0.272193, 52.772785], [0.186309, 52.735329], [0.063613, 52.727371], [0.044135, 52.714362], [0.048832, 52.681751], [0.021043, 52.664765], [-0.06373, 52.675214], [-0.141078, 52.651488], [-0.192882, 52.652419], [-0.206052, 52.668054], [-0.260648, 52.651394], [-0.334998, 52.674852], [-0.405693, 52.648028], [-0.452706, 52.654259], [-0.494785, 52.640296], [-0.470933, 52.623541], [-0.49293, 52.582091], [-0.419996, 52.581337], [-0.407266, 52.565593], [-0.419608, 52.558944], [-0.401958, 52.548082], [-0.413483, 52.525489], [-0.352192, 52.503307], [-0.359413, 52.489834], [-0.341608, 52.466925], [-0.371882, 52.437043], [-0.362426, 52.433514], [-0.443779, 52.383842], [-0.495963, 52.3795], [-0.498716, 52.360081], [-0.4647, 52.324745], [-0.519847, 52.317678], [-0.541986, 52.289928], [-0.531208, 52.270388], [-0.540921, 52.256513], [-0.56571, 52.253455], [-0.602933, 52.278693], [-0.647386, 52.27101], [-0.637349, 52.227304], [-0.668154, 52.195021], [-0.777907, 52.168754], [-0.831983, 52.143671], [-0.832072, 52.131246], [-0.88072, 52.126325], [-0.887032, 52.114197], [-0.831437, 52.071935], [-0.862752, 52.060876], [-0.852464, 52.050694], [-0.877487, 52.02996], [-0.908395, 52.022229], [-0.951891, 52.081522], [-1.04213, 52.073925], [-1.026423, 52.064406], [-1.122004, 52.045136], [-1.136678, 52.022221], [-1.118021, 52.015702], [-1.134347, 51.997286], [-1.196809, 51.977357], [-1.283509, 51.979614], [-1.278164, 52.014228], [-1.312936, 52.051442], [-1.297524, 52.078046], [-1.32118, 52.087008], [-1.248101, 52.097149], [-1.332337, 52.172374], [-1.313148, 52.190454], [-1.254974, 52.197848], [-1.284658, 52.238562], [-1.217921, 52.261782], [-1.233797, 52.290312], [-1.209248, 52.315188], [-1.265368, 52.328344], [-1.175033, 52.356235], [-1.193364, 52.385815]]]], &quot;type&quot;: &quot;MultiPolygon&quot;}, &quot;id&quot;: &quot;6&quot;, &quot;properties&quot;: {&quot;Region&quot;: &quot;East Midlands&quot;, &quot;Total&quot;: 17837.0, &quot;cartodb_id&quot;: 4, &quot;geo_code&quot;: &quot;E12000004&quot;, &quot;name&quot;: &quot;East Midlands&quot;}, &quot;type&quot;: &quot;Feature&quot;}, {&quot;bbox&quot;: [-3.640571, 52.947248, -1.912886, 55.188981], &quot;geometry&quot;: {&quot;coordinates&quot;: [[[[-2.304494, 54.596231], [-2.209483, 54.551705], [-2.197576, 54.532662], [-2.172524, 54.532417], [-2.161691, 54.464723], [-2.18931, 54.448968], [-2.292861, 54.439298], [-2.308141, 54.419784], [-2.297436, 54.376888], [-2.367708, 54.35606], [-2.309838, 54.324304], [-2.323028, 54.311072], [-2.325643, 54.241427], [-2.362313, 54.249741], [-2.405628, 54.224904], [-2.460859, 54.226705], [-2.533977, 54.157681], [-2.560503, 54.153041], [-2.564739, 54.127026], [-2.524007, 54.094611], [-2.464345, 54.075267], [-2.459353, 54.040707], [-2.374069, 54.049076], [-2.339558, 54.00942], [-2.352308, 54.010526], [-2.352355, 53.994661], [-2.319149, 53.993829], [-2.294317, 53.97442], [-2.230342, 53.981517], [-2.225733, 53.961086], [-2.196016, 53.969562], [-2.18392, 53.936606], [-2.124347, 53.923186], [-2.082509, 53.877629], [-2.089912, 53.868168], [-2.045947, 53.849868], [-2.046922, 53.829496], [-2.128333, 53.799032], [-2.130834, 53.752056], [-2.173294, 53.722997], [-2.142686, 53.678003], [-2.092907, 53.670146], [-2.051242, 53.683676], [-2.023037, 53.615824], [-1.912886, 53.551628], [-1.926782, 53.520932], [-1.917501, 53.513062], [-1.971322, 53.504542], [-1.985656, 53.455296], [-2.027294, 53.432236], [-1.992332, 53.415177], [-2.034098, 53.367839], [-2.008999, 53.361995], [-2.009484, 53.260636], [-1.974932, 53.228482], [-2.000205, 53.193719], [-2.04653, 53.19263], [-2.070178, 53.17168], [-2.112078, 53.168642], [-2.140441, 53.183795], [-2.141413, 53.156635], [-2.155646, 53.159601], [-2.246521, 53.090194], [-2.318051, 53.081342], [-2.347585, 53.056154], [-2.381249, 53.052535], [-2.384227, 53.026151], [-2.370467, 53.014559], [-2.38028, 52.99877], [-2.438264, 52.985507], [-2.434614, 52.969506], [-2.481154, 52.958802], [-2.52132, 52.974286], [-2.531894, 52.947248], [-2.561263, 52.964937], [-2.586485, 52.955398], [-2.594889, 52.979592], [-2.632651, 52.996657], [-2.725266, 52.982918], [-2.8263, 52.993756], [-2.861006, 53.02279], [-2.875787, 53.081497], [-2.901906, 53.091814], [-2.881186, 53.121644], [-2.943669, 53.12161], [-2.995022, 53.154008], [-2.927795, 53.171455], [-2.922298, 53.189277], [-3.025463, 53.248299], [-3.090411, 53.25889], [-3.216933, 53.338295], [-3.198976, 53.346966], [-3.230213, 53.370501], [-3.263757, 53.449479], [-3.163368, 53.427294], [-3.106892, 53.43154], [-3.122816, 53.434175], [-3.114265, 53.447033], [-3.094764, 53.4366], [-3.028179, 53.446723], [-3.088931, 53.515559], [-3.153724, 53.536737], [-3.109316, 53.536351], [-3.119049, 53.542402], [-3.119439, 53.554776], [-3.066806, 53.653052], [-3.059651, 53.656064], [-3.053908, 53.661724], [-3.045171, 53.659132], [-3.038777, 53.661343], [-3.04465, 53.659485], [-3.05153, 53.661894], [-3.055245, 53.661666], [-3.058966, 53.656943], [-3.066731, 53.653667], [-3.068683, 53.650697], [-3.057306, 53.674654], [-3.072389, 53.686222], [-3.060446, 53.690604], [-3.084533, 53.697885], [-3.05269, 53.881107], [-3.068697, 53.945333], [-3.023054, 53.945037], [-3.006407, 53.966605], [-2.976099, 53.969489], [-2.98362, 53.987425], [-2.912281, 54.033791], [-2.926039, 54.033826], [-2.907005, 54.055523], [-2.917325, 54.061398], [-2.896441, 54.072309], [-2.867542, 54.076151], [-2.853835, 54.081114], [-2.901617, 54.08282], [-2.979044, 54.046561], [-2.971128, 54.054036], [-3.011955, 54.073126], [-3.026124, 54.102451], [-3.033193, 54.047641], [-3.032023, 54.079518], [-3.049342, 54.058258], [-3.055589, 54.077161], [-3.060158, 54.052832], [-3.070143, 54.059463], [-3.055643, 54.106439], [-3.094989, 54.044253], [-3.106609, 54.081751], [-3.095588, 54.108519], [-3.11683, 54.067827], [-3.129301, 54.059419], [-3.123378, 54.073335], [-3.137311, 54.066473], [-3.138119, 54.067099], [-3.139916, 54.06706], [-3.141483, 54.06839], [-3.142796, 54.068997], [-3.14447, 54.06899], [-3.147447, 54.067502], [-3.145694, 54.051481], [-3.215553, 54.042194], [-3.305201, 54.149455], [-3.293524, 54.150943], [-3.296465, 54.147785], [-3.288738, 54.148977], [-3.335937, 54.169945], [-3.348502, 54.209158], [-3.424165, 54.282035], [-3.439837, 54.339235], [-3.640571, 54.515985], [-3.609636, 54.529644], [-3.585307, 54.565322], [-3.571928, 54.609599], [-3.580047, 54.652238], [-3.442958, 54.763354], [-3.43888, 54.817935], [-3.446646, 54.807564], [-3.457077, 54.817524], [-3.440962, 54.823055], [-3.434756, 54.82627], [-3.431195, 54.829472], [-3.45631, 54.819207], [-3.461156, 54.809506], [-3.465787, 54.822479], [-3.43482, 54.832463], [-3.445785, 54.835133], [-3.309642, 54.947021], [-3.338538, 54.946804], [-3.293792, 54.96362], [-3.150829, 54.949529], [-3.120233, 54.973053], [-3.073703, 54.968519], [-3.026042, 55.035357], [-3.051049, 55.052731], [-2.958591, 55.049289], [-2.844866, 55.111581], [-2.825499, 55.13831], [-2.784915, 55.141772], [-2.689785, 55.188981], [-2.656934, 55.136129], [-2.598896, 55.124572], [-2.562129, 55.083458], [-2.486284, 55.083011], [-2.503978, 55.062425], [-2.483043, 55.040014], [-2.572845, 55.016393], [-2.573304, 54.987632], [-2.600339, 54.973656], [-2.545266, 54.929165], [-2.605432, 54.884143], [-2.573347, 54.853539], [-2.582666, 54.84586], [-2.567843, 54.823568], [-2.534076, 54.806803], [-2.495404, 54.810299], [-2.411617, 54.856424], [-2.312083, 54.791008], [-2.325796, 54.72659], [-2.355743, 54.697665], [-2.327406, 54.670715], [-2.292869, 54.663878], [-2.287973, 54.650473], [-2.324995, 54.631591], [-2.304494, 54.596231]]]], &quot;type&quot;: &quot;MultiPolygon&quot;}, &quot;id&quot;: &quot;7&quot;, &quot;properties&quot;: {&quot;Region&quot;: &quot;North West&quot;, &quot;Total&quot;: 26422.0, &quot;cartodb_id&quot;: 8, &quot;geo_code&quot;: &quot;E12000002&quot;, &quot;name&quot;: &quot;North West&quot;}, &quot;type&quot;: &quot;Feature&quot;}, {&quot;bbox&quot;: [-2.689785, 54.451138, -0.788417, 55.81166], &quot;geometry&quot;: {&quot;coordinates&quot;: [[[[-1.215357, 54.713564], [-1.175134, 54.698122], [-1.198053, 54.685502], [-1.180425, 54.659679], [-1.107354, 54.627721], [-1.04019, 54.621646], [-1.054349, 54.619325], [-0.894752, 54.57224], [-0.788417, 54.560708], [-0.847949, 54.530816], [-0.848515, 54.487959], [-1.230591, 54.511869], [-1.257391, 54.487309], [-1.343896, 54.464139], [-1.37255, 54.472296], [-1.380999, 54.494017], [-1.406888, 54.493617], [-1.417876, 54.477075], [-1.461584, 54.504285], [-1.475588, 54.498328], [-1.458464, 54.492828], [-1.461721, 54.451138], [-1.475455, 54.473896], [-1.49878, 54.475332], [-1.491766, 54.486189], [-1.545816, 54.471265], [-1.591873, 54.50429], [-1.58106, 54.512835], [-1.720307, 54.542338], [-1.733082, 54.527726], [-1.779689, 54.531863], [-1.776123, 54.506717], [-1.792938, 54.484357], [-1.839425, 54.508428], [-1.857794, 54.50353], [-1.859124, 54.481847], [-1.942537, 54.453386], [-2.043194, 54.48359], [-2.170206, 54.458189], [-2.159018, 54.471977], [-2.172524, 54.532417], [-2.197576, 54.532662], [-2.209483, 54.551705], [-2.304496, 54.596232], [-2.324995, 54.631591], [-2.287973, 54.650473], [-2.292869, 54.663878], [-2.351918, 54.685886], [-2.30844, 54.77351], [-2.327083, 54.805157], [-2.411617, 54.856424], [-2.523325, 54.806068], [-2.577946, 54.836447], [-2.573347, 54.853539], [-2.605339, 54.884871], [-2.545266, 54.929165], [-2.601355, 54.971311], [-2.573304, 54.987632], [-2.572845, 55.016393], [-2.483043, 55.040014], [-2.503982, 55.06248], [-2.486079, 55.082439], [-2.562129, 55.083458], [-2.598896, 55.124572], [-2.656934, 55.136129], [-2.689785, 55.188981], [-2.666809, 55.221578], [-2.631408, 55.223695], [-2.630221, 55.244792], [-2.611445, 55.247132], [-2.646766, 55.260041], [-2.559003, 55.317851], [-2.520263, 55.323045], [-2.475387, 55.354738], [-2.378905, 55.349168], [-2.337523, 55.367189], [-2.335622, 55.408207], [-2.260604, 55.432933], [-2.231274, 55.428428], [-2.165513, 55.468381], [-2.201328, 55.475267], [-2.240299, 55.555628], [-2.288804, 55.580308], [-2.289226, 55.603775], [-2.316088, 55.62046], [-2.30862, 55.628877], [-2.335999, 55.632483], [-2.305783, 55.647046], [-2.234176, 55.641198], [-2.24823, 55.652067], [-2.167223, 55.706038], [-2.176512, 55.718841], [-2.117629, 55.738778], [-2.107633, 55.759891], [-2.08563, 55.762044], [-2.086114, 55.793049], [-2.033207, 55.81166], [-1.936133, 55.720441], [-1.807992, 55.689579], [-1.826106, 55.686078], [-1.777897, 55.686674], [-1.777125, 55.666758], [-1.813644, 55.674958], [-1.821103, 55.673065], [-1.827711, 55.66687], [-1.819384, 55.672112], [-1.811161, 55.673784], [-1.758351, 55.628797], [-1.642492, 55.584133], [-1.617479, 55.552622], [-1.632103, 55.53625], [-1.606924, 55.521694], [-1.613928, 55.500019], [-1.59068, 55.492462], [-1.590476, 55.437748], [-1.568871, 55.427243], [-1.602938, 55.370808], [-1.540269, 55.320591], [-1.567286, 55.290726], [-1.564714, 55.266681], [-1.4958, 55.186494], [-1.512562, 55.181942], [-1.519353, 55.149311], [-1.494578, 55.130525], [-1.489792, 55.098517], [-1.447672, 55.072782], [-1.45026, 55.05536], [-1.402781, 55.014536], [-1.432826, 55.009193], [-1.400862, 55.011311], [-1.411759, 55.00662], [-1.402987, 54.994116], [-1.354325, 54.96403], [-1.366354, 54.934746], [-1.350365, 54.905831], [-1.361274, 54.897897], [-1.343617, 54.853138], [-1.320653, 54.837544], [-1.308839, 54.781335], [-1.215357, 54.713564]]], [[[-1.643429, 55.622108], [-1.642196, 55.615748], [-1.658589, 55.616902], [-1.655333, 55.620281], [-1.643429, 55.622108]]], [[[-1.540468, 55.33793], [-1.535556, 55.336044], [-1.535215, 55.332317], [-1.540883, 55.332516], [-1.540468, 55.33793]]], [[[-1.61216, 55.646398], [-1.608959, 55.646833], [-1.604481, 55.64057], [-1.614516, 55.647078], [-1.61216, 55.646398]]], [[[-1.626919, 55.635024], [-1.623796, 55.634523], [-1.619073, 55.632976], [-1.625046, 55.629047], [-1.626919, 55.635024]]], [[[-1.627458, 55.638637], [-1.626345, 55.636378], [-1.63129, 55.639819], [-1.628939, 55.640503], [-1.627458, 55.638637]]], [[[-1.618186, 55.641136], [-1.6165, 55.639822], [-1.623721, 55.638783], [-1.621292, 55.640374], [-1.618186, 55.641136]]], [[[-1.674876, 55.627587], [-1.676569, 55.629117], [-1.675678, 55.629895], [-1.673506, 55.628749], [-1.674876, 55.627587]]], [[[-1.622363, 55.636366], [-1.622413, 55.635832], [-1.625876, 55.636314], [-1.624494, 55.637123], [-1.622363, 55.636366]]]], &quot;type&quot;: &quot;MultiPolygon&quot;}, &quot;id&quot;: &quot;8&quot;, &quot;properties&quot;: {&quot;Region&quot;: &quot;North East&quot;, &quot;Total&quot;: 28429.0, &quot;cartodb_id&quot;: 9, &quot;geo_code&quot;: &quot;E12000001&quot;, &quot;name&quot;: &quot;North East&quot;}, &quot;type&quot;: &quot;Feature&quot;}], &quot;type&quot;: &quot;FeatureCollection&quot;});\n",
       "\n",
       "        \n",
       "    \n",
       "            geo_json_b388bb81545bda5796278c3037c25dbe.addTo(map_18875c586c466075d98e58fdc50096a2);\n",
       "        \n",
       "&lt;/script&gt;\n",
       "&lt;/html&gt;\" style=\"position:absolute;width:100%;height:100%;left:0;top:0;border:none !important;\" allowfullscreen webkitallowfullscreen mozallowfullscreen></iframe></div></div>"
      ],
      "text/plain": [
       "<folium.folium.Map at 0x2e5b2e786e0>"
      ]
     },
     "execution_count": 2,
     "metadata": {},
     "output_type": "execute_result"
    }
   ],
   "source": [
    "#Full Map Visualisation \n",
    "import folium\n",
    "from folium import *\n",
    "import matplotlib.colors as mcolors\n",
    "import geopandas as gpd\n",
    "from io import *\n",
    "\n",
    "#Reading in fourth datasheet for sixth graph\n",
    "UK_Regions_Incidents = pd.read_excel(FullPoliceData, 13, skiprows = 3)\n",
    "\n",
    "#Cleaning fourth dataset\n",
    "UK_Regions_Incidents = UK_Regions_Incidents.drop(UK_Regions_Incidents.index[54:57])\n",
    "UK_Regions_Incidents = UK_Regions_Incidents[~UK_Regions_Incidents['Police force'].str.contains('total', case=False, na=False)]\n",
    "\n",
    "#Making smaller dataframe\n",
    "region_totals = UK_Regions_Incidents.groupby('Region')['Total'].sum().reset_index()\n",
    "region_totals['Region'] = region_totals['Region'].replace('Yorkshire and the Humber', 'Yorkshire and The Humber')\n",
    "\n",
    "#importing geojson file for map\n",
    "geojson_url = 'https://raw.githubusercontent.com/codeforgermany/click_that_hood/master/public/data/united-kingdom-regions.geojson'\n",
    "\n",
    "#geojson code\n",
    "response = requests.get(geojson_url)\n",
    "geojson_data = response.text\n",
    "gdf = gpd.read_file(StringIO(geojson_data))\n",
    "geojson_data = response.json() \n",
    "\n",
    "#selecting regions for the map visual\n",
    "regions_of_interest = [\"East Midlands\", \"East of England\", \"London\", \"North East\", \"North West\", \"South East\", \"South West\", \"Wales\", \"West Midlands\", \"Yorkshire and The Humber\"]\n",
    "gdf_filtered = gdf[gdf['name'].isin(regions_of_interest)]\n",
    "\n",
    "#Setting up geojson\n",
    "gdf_filtered = gdf[gdf['name'].isin(region_totals['Region'])]\n",
    "gdf_filtered = gdf_filtered.merge(region_totals, left_on='name', right_on='Region', how='left')\n",
    "\n",
    "#values for map\n",
    "min_total = gdf_filtered['Total'].min()\n",
    "max_total = gdf_filtered['Total'].max()\n",
    "\n",
    "#colour scale\n",
    "norm = mcolors.Normalize(vmin=min_total, vmax=max_total)\n",
    "cmap = plt.cm.ScalarMappable(norm=norm, cmap='RdYlGn_r')\n",
    "\n",
    "#initialising map\n",
    "m = folium.Map(location=[52.0, -1.5], zoom_start=6)\n",
    "\n",
    "\n",
    "#map colour parameters\n",
    "def style_function(feature):\n",
    "    region = feature['properties']['name']\n",
    "    total = gdf_filtered[gdf_filtered['name'] == region]['Total'].values[0]\n",
    "    color = cmap.to_rgba(total)  # Get the color from the colormap\n",
    "    return {\n",
    "        'fillColor': mcolors.to_hex(color),  # Convert RGBA to Hex color\n",
    "        'color': 'black',\n",
    "        'weight': 1,\n",
    "        'fillOpacity': 0.7\n",
    "    }\n",
    "\n",
    "#removing errorneous entries\n",
    "gdf_filtered = gdf_filtered.drop(columns=['created_at', 'updated_at'], errors='ignore')\n",
    "\n",
    "#placing region values onto map\n",
    "folium.GeoJson(gdf_filtered, style_function=style_function).add_to(m)\n",
    "m"
   ]
  },
  {
   "cell_type": "code",
   "execution_count": 3,
   "metadata": {},
   "outputs": [
    {
     "data": {
      "application/vnd.plotly.v1+json": {
       "config": {
        "plotlyServerURL": "https://plot.ly"
       },
       "data": [
        {
         "hovertemplate": "Age Group=Under 11 years<br>Tactic=%{x}<br>Incident Count=%{marker.size}<extra></extra>",
         "legendgroup": "Under 11 years",
         "marker": {
          "color": "#636efa",
          "size": [
           109,
           81,
           9,
           43,
           94,
           7,
           2,
           1,
           4,
           2,
           3,
           1,
           2,
           16,
           0,
           0,
           0,
           3,
           0,
           0,
           0,
           80
          ],
          "sizemode": "area",
          "sizeref": 64.93777777777778,
          "symbol": "circle"
         },
         "mode": "markers",
         "name": "Under 11 years",
         "orientation": "v",
         "showlegend": true,
         "type": "scatter",
         "x": [
          "Compliant handcuffing",
          "Non-compliant handcuffing",
          "Not stated",
          "Limb / Body restraints",
          "Ground restraint",
          "Baton drawn",
          "Baton used",
          "Not stated",
          "Irritant spray - drawn",
          "Irritant spray - used",
          "Not stated",
          "Spit and bite guard",
          "Shield",
          "CED",
          "AEP aimed",
          "AEP fired",
          "Not stated",
          "Total Firearms",
          "Dog deployed",
          "Dog bite",
          "Not stated",
          "Other / improvised"
         ],
         "xaxis": "x",
         "y": [
          109,
          81,
          9,
          43,
          94,
          7,
          2,
          1,
          4,
          2,
          3,
          1,
          2,
          16,
          0,
          0,
          0,
          3,
          0,
          0,
          0,
          80
         ],
         "yaxis": "y"
        },
        {
         "hovertemplate": "Age Group=11 - 17 years<br>Tactic=%{x}<br>Incident Count=%{marker.size}<extra></extra>",
         "legendgroup": "11 - 17 years",
         "marker": {
          "color": "#EF553B",
          "size": [
           9374,
           7734,
           2771,
           1983,
           4238,
           268,
           69,
           48,
           310,
           269,
           190,
           165,
           36,
           938,
           9,
           1,
           8,
           195,
           117,
           53,
           19,
           2474
          ],
          "sizemode": "area",
          "sizeref": 64.93777777777778,
          "symbol": "circle"
         },
         "mode": "markers",
         "name": "11 - 17 years",
         "orientation": "v",
         "showlegend": true,
         "type": "scatter",
         "x": [
          "Compliant handcuffing",
          "Non-compliant handcuffing",
          "Not stated",
          "Limb / Body restraints",
          "Ground restraint",
          "Baton drawn",
          "Baton used",
          "Not stated",
          "Irritant spray - drawn",
          "Irritant spray - used",
          "Not stated",
          "Spit and bite guard",
          "Shield",
          "CED",
          "AEP aimed",
          "AEP fired",
          "Not stated",
          "Total Firearms",
          "Dog deployed",
          "Dog bite",
          "Not stated",
          "Other / improvised"
         ],
         "xaxis": "x",
         "y": [
          9374,
          7734,
          2771,
          1983,
          4238,
          268,
          69,
          48,
          310,
          269,
          190,
          165,
          36,
          938,
          9,
          1,
          8,
          195,
          117,
          53,
          19,
          2474
         ],
         "yaxis": "y"
        },
        {
         "hovertemplate": "Age Group=18 - 34 years<br>Tactic=%{x}<br>Incident Count=%{marker.size}<extra></extra>",
         "legendgroup": "18 - 34 years",
         "marker": {
          "color": "#00cc96",
          "size": [
           58444,
           39968,
           17361,
           12155,
           25888,
           1515,
           797,
           427,
           2701,
           3249,
           1804,
           1369,
           391,
           7528,
           149,
           18,
           126,
           1876,
           641,
           230,
           127,
           13692
          ],
          "sizemode": "area",
          "sizeref": 64.93777777777778,
          "symbol": "circle"
         },
         "mode": "markers",
         "name": "18 - 34 years",
         "orientation": "v",
         "showlegend": true,
         "type": "scatter",
         "x": [
          "Compliant handcuffing",
          "Non-compliant handcuffing",
          "Not stated",
          "Limb / Body restraints",
          "Ground restraint",
          "Baton drawn",
          "Baton used",
          "Not stated",
          "Irritant spray - drawn",
          "Irritant spray - used",
          "Not stated",
          "Spit and bite guard",
          "Shield",
          "CED",
          "AEP aimed",
          "AEP fired",
          "Not stated",
          "Total Firearms",
          "Dog deployed",
          "Dog bite",
          "Not stated",
          "Other / improvised"
         ],
         "xaxis": "x",
         "y": [
          58444,
          39968,
          17361,
          12155,
          25888,
          1515,
          797,
          427,
          2701,
          3249,
          1804,
          1369,
          391,
          7528,
          149,
          18,
          126,
          1876,
          641,
          230,
          127,
          13692
         ],
         "yaxis": "y"
        },
        {
         "hovertemplate": "Age Group=35 - 49 years<br>Tactic=%{x}<br>Incident Count=%{marker.size}<extra></extra>",
         "legendgroup": "35 - 49 years",
         "marker": {
          "color": "#ab63fa",
          "size": [
           26439,
           16343,
           7285,
           4225,
           8789,
           517,
           257,
           165,
           969,
           1218,
           670,
           554,
           214,
           3051,
           84,
           14,
           64,
           581,
           169,
           73,
           34,
           5599
          ],
          "sizemode": "area",
          "sizeref": 64.93777777777778,
          "symbol": "circle"
         },
         "mode": "markers",
         "name": "35 - 49 years",
         "orientation": "v",
         "showlegend": true,
         "type": "scatter",
         "x": [
          "Compliant handcuffing",
          "Non-compliant handcuffing",
          "Not stated",
          "Limb / Body restraints",
          "Ground restraint",
          "Baton drawn",
          "Baton used",
          "Not stated",
          "Irritant spray - drawn",
          "Irritant spray - used",
          "Not stated",
          "Spit and bite guard",
          "Shield",
          "CED",
          "AEP aimed",
          "AEP fired",
          "Not stated",
          "Total Firearms",
          "Dog deployed",
          "Dog bite",
          "Not stated",
          "Other / improvised"
         ],
         "xaxis": "x",
         "y": [
          26439,
          16343,
          7285,
          4225,
          8789,
          517,
          257,
          165,
          969,
          1218,
          670,
          554,
          214,
          3051,
          84,
          14,
          64,
          581,
          169,
          73,
          34,
          5599
         ],
         "yaxis": "y"
        },
        {
         "hovertemplate": "Age Group=50 - 64 years<br>Tactic=%{x}<br>Incident Count=%{marker.size}<extra></extra>",
         "legendgroup": "50 - 64 years",
         "marker": {
          "color": "#FFA15A",
          "size": [
           5888,
           4294,
           1900,
           923,
           1736,
           104,
           41,
           30,
           197,
           234,
           147,
           106,
           65,
           818,
           15,
           2,
           9,
           176,
           27,
           12,
           6,
           1494
          ],
          "sizemode": "area",
          "sizeref": 64.93777777777778,
          "symbol": "circle"
         },
         "mode": "markers",
         "name": "50 - 64 years",
         "orientation": "v",
         "showlegend": true,
         "type": "scatter",
         "x": [
          "Compliant handcuffing",
          "Non-compliant handcuffing",
          "Not stated",
          "Limb / Body restraints",
          "Ground restraint",
          "Baton drawn",
          "Baton used",
          "Not stated",
          "Irritant spray - drawn",
          "Irritant spray - used",
          "Not stated",
          "Spit and bite guard",
          "Shield",
          "CED",
          "AEP aimed",
          "AEP fired",
          "Not stated",
          "Total Firearms",
          "Dog deployed",
          "Dog bite",
          "Not stated",
          "Other / improvised"
         ],
         "xaxis": "x",
         "y": [
          5888,
          4294,
          1900,
          923,
          1736,
          104,
          41,
          30,
          197,
          234,
          147,
          106,
          65,
          818,
          15,
          2,
          9,
          176,
          27,
          12,
          6,
          1494
         ],
         "yaxis": "y"
        },
        {
         "hovertemplate": "Age Group=65 and over<br>Tactic=%{x}<br>Incident Count=%{marker.size}<extra></extra>",
         "legendgroup": "65 and over",
         "marker": {
          "color": "#19d3f3",
          "size": [
           403,
           435,
           136,
           124,
           122,
           9,
           5,
           2,
           12,
           9,
           8,
           8,
           4,
           65,
           3,
           0,
           3,
           23,
           3,
           0,
           1,
           256
          ],
          "sizemode": "area",
          "sizeref": 64.93777777777778,
          "symbol": "circle"
         },
         "mode": "markers",
         "name": "65 and over",
         "orientation": "v",
         "showlegend": true,
         "type": "scatter",
         "x": [
          "Compliant handcuffing",
          "Non-compliant handcuffing",
          "Not stated",
          "Limb / Body restraints",
          "Ground restraint",
          "Baton drawn",
          "Baton used",
          "Not stated",
          "Irritant spray - drawn",
          "Irritant spray - used",
          "Not stated",
          "Spit and bite guard",
          "Shield",
          "CED",
          "AEP aimed",
          "AEP fired",
          "Not stated",
          "Total Firearms",
          "Dog deployed",
          "Dog bite",
          "Not stated",
          "Other / improvised"
         ],
         "xaxis": "x",
         "y": [
          403,
          435,
          136,
          124,
          122,
          9,
          5,
          2,
          12,
          9,
          8,
          8,
          4,
          65,
          3,
          0,
          3,
          23,
          3,
          0,
          1,
          256
         ],
         "yaxis": "y"
        },
        {
         "hovertemplate": "Age Group=Not reported<br>Tactic=%{x}<br>Incident Count=%{marker.size}<extra></extra>",
         "legendgroup": "Not reported",
         "marker": {
          "color": "#FF6692",
          "size": [
           5958,
           8908,
           4970,
           2193,
           4239,
           336,
           206,
           220,
           512,
           654,
           561,
           438,
           115,
           339,
           12,
           1,
           14,
           291,
           281,
           46,
           81,
           5165
          ],
          "sizemode": "area",
          "sizeref": 64.93777777777778,
          "symbol": "circle"
         },
         "mode": "markers",
         "name": "Not reported",
         "orientation": "v",
         "showlegend": true,
         "type": "scatter",
         "x": [
          "Compliant handcuffing",
          "Non-compliant handcuffing",
          "Not stated",
          "Limb / Body restraints",
          "Ground restraint",
          "Baton drawn",
          "Baton used",
          "Not stated",
          "Irritant spray - drawn",
          "Irritant spray - used",
          "Not stated",
          "Spit and bite guard",
          "Shield",
          "CED",
          "AEP aimed",
          "AEP fired",
          "Not stated",
          "Total Firearms",
          "Dog deployed",
          "Dog bite",
          "Not stated",
          "Other / improvised"
         ],
         "xaxis": "x",
         "y": [
          5958,
          8908,
          4970,
          2193,
          4239,
          336,
          206,
          220,
          512,
          654,
          561,
          438,
          115,
          339,
          12,
          1,
          14,
          291,
          281,
          46,
          81,
          5165
         ],
         "yaxis": "y"
        }
       ],
       "layout": {
        "legend": {
         "itemsizing": "constant",
         "title": {
          "text": "Age Group"
         },
         "tracegroupgap": 0
        },
        "template": {
         "data": {
          "bar": [
           {
            "error_x": {
             "color": "#2a3f5f"
            },
            "error_y": {
             "color": "#2a3f5f"
            },
            "marker": {
             "line": {
              "color": "#E5ECF6",
              "width": 0.5
             },
             "pattern": {
              "fillmode": "overlay",
              "size": 10,
              "solidity": 0.2
             }
            },
            "type": "bar"
           }
          ],
          "barpolar": [
           {
            "marker": {
             "line": {
              "color": "#E5ECF6",
              "width": 0.5
             },
             "pattern": {
              "fillmode": "overlay",
              "size": 10,
              "solidity": 0.2
             }
            },
            "type": "barpolar"
           }
          ],
          "carpet": [
           {
            "aaxis": {
             "endlinecolor": "#2a3f5f",
             "gridcolor": "white",
             "linecolor": "white",
             "minorgridcolor": "white",
             "startlinecolor": "#2a3f5f"
            },
            "baxis": {
             "endlinecolor": "#2a3f5f",
             "gridcolor": "white",
             "linecolor": "white",
             "minorgridcolor": "white",
             "startlinecolor": "#2a3f5f"
            },
            "type": "carpet"
           }
          ],
          "choropleth": [
           {
            "colorbar": {
             "outlinewidth": 0,
             "ticks": ""
            },
            "type": "choropleth"
           }
          ],
          "contour": [
           {
            "colorbar": {
             "outlinewidth": 0,
             "ticks": ""
            },
            "colorscale": [
             [
              0,
              "#0d0887"
             ],
             [
              0.1111111111111111,
              "#46039f"
             ],
             [
              0.2222222222222222,
              "#7201a8"
             ],
             [
              0.3333333333333333,
              "#9c179e"
             ],
             [
              0.4444444444444444,
              "#bd3786"
             ],
             [
              0.5555555555555556,
              "#d8576b"
             ],
             [
              0.6666666666666666,
              "#ed7953"
             ],
             [
              0.7777777777777778,
              "#fb9f3a"
             ],
             [
              0.8888888888888888,
              "#fdca26"
             ],
             [
              1,
              "#f0f921"
             ]
            ],
            "type": "contour"
           }
          ],
          "contourcarpet": [
           {
            "colorbar": {
             "outlinewidth": 0,
             "ticks": ""
            },
            "type": "contourcarpet"
           }
          ],
          "heatmap": [
           {
            "colorbar": {
             "outlinewidth": 0,
             "ticks": ""
            },
            "colorscale": [
             [
              0,
              "#0d0887"
             ],
             [
              0.1111111111111111,
              "#46039f"
             ],
             [
              0.2222222222222222,
              "#7201a8"
             ],
             [
              0.3333333333333333,
              "#9c179e"
             ],
             [
              0.4444444444444444,
              "#bd3786"
             ],
             [
              0.5555555555555556,
              "#d8576b"
             ],
             [
              0.6666666666666666,
              "#ed7953"
             ],
             [
              0.7777777777777778,
              "#fb9f3a"
             ],
             [
              0.8888888888888888,
              "#fdca26"
             ],
             [
              1,
              "#f0f921"
             ]
            ],
            "type": "heatmap"
           }
          ],
          "heatmapgl": [
           {
            "colorbar": {
             "outlinewidth": 0,
             "ticks": ""
            },
            "colorscale": [
             [
              0,
              "#0d0887"
             ],
             [
              0.1111111111111111,
              "#46039f"
             ],
             [
              0.2222222222222222,
              "#7201a8"
             ],
             [
              0.3333333333333333,
              "#9c179e"
             ],
             [
              0.4444444444444444,
              "#bd3786"
             ],
             [
              0.5555555555555556,
              "#d8576b"
             ],
             [
              0.6666666666666666,
              "#ed7953"
             ],
             [
              0.7777777777777778,
              "#fb9f3a"
             ],
             [
              0.8888888888888888,
              "#fdca26"
             ],
             [
              1,
              "#f0f921"
             ]
            ],
            "type": "heatmapgl"
           }
          ],
          "histogram": [
           {
            "marker": {
             "pattern": {
              "fillmode": "overlay",
              "size": 10,
              "solidity": 0.2
             }
            },
            "type": "histogram"
           }
          ],
          "histogram2d": [
           {
            "colorbar": {
             "outlinewidth": 0,
             "ticks": ""
            },
            "colorscale": [
             [
              0,
              "#0d0887"
             ],
             [
              0.1111111111111111,
              "#46039f"
             ],
             [
              0.2222222222222222,
              "#7201a8"
             ],
             [
              0.3333333333333333,
              "#9c179e"
             ],
             [
              0.4444444444444444,
              "#bd3786"
             ],
             [
              0.5555555555555556,
              "#d8576b"
             ],
             [
              0.6666666666666666,
              "#ed7953"
             ],
             [
              0.7777777777777778,
              "#fb9f3a"
             ],
             [
              0.8888888888888888,
              "#fdca26"
             ],
             [
              1,
              "#f0f921"
             ]
            ],
            "type": "histogram2d"
           }
          ],
          "histogram2dcontour": [
           {
            "colorbar": {
             "outlinewidth": 0,
             "ticks": ""
            },
            "colorscale": [
             [
              0,
              "#0d0887"
             ],
             [
              0.1111111111111111,
              "#46039f"
             ],
             [
              0.2222222222222222,
              "#7201a8"
             ],
             [
              0.3333333333333333,
              "#9c179e"
             ],
             [
              0.4444444444444444,
              "#bd3786"
             ],
             [
              0.5555555555555556,
              "#d8576b"
             ],
             [
              0.6666666666666666,
              "#ed7953"
             ],
             [
              0.7777777777777778,
              "#fb9f3a"
             ],
             [
              0.8888888888888888,
              "#fdca26"
             ],
             [
              1,
              "#f0f921"
             ]
            ],
            "type": "histogram2dcontour"
           }
          ],
          "mesh3d": [
           {
            "colorbar": {
             "outlinewidth": 0,
             "ticks": ""
            },
            "type": "mesh3d"
           }
          ],
          "parcoords": [
           {
            "line": {
             "colorbar": {
              "outlinewidth": 0,
              "ticks": ""
             }
            },
            "type": "parcoords"
           }
          ],
          "pie": [
           {
            "automargin": true,
            "type": "pie"
           }
          ],
          "scatter": [
           {
            "fillpattern": {
             "fillmode": "overlay",
             "size": 10,
             "solidity": 0.2
            },
            "type": "scatter"
           }
          ],
          "scatter3d": [
           {
            "line": {
             "colorbar": {
              "outlinewidth": 0,
              "ticks": ""
             }
            },
            "marker": {
             "colorbar": {
              "outlinewidth": 0,
              "ticks": ""
             }
            },
            "type": "scatter3d"
           }
          ],
          "scattercarpet": [
           {
            "marker": {
             "colorbar": {
              "outlinewidth": 0,
              "ticks": ""
             }
            },
            "type": "scattercarpet"
           }
          ],
          "scattergeo": [
           {
            "marker": {
             "colorbar": {
              "outlinewidth": 0,
              "ticks": ""
             }
            },
            "type": "scattergeo"
           }
          ],
          "scattergl": [
           {
            "marker": {
             "colorbar": {
              "outlinewidth": 0,
              "ticks": ""
             }
            },
            "type": "scattergl"
           }
          ],
          "scattermapbox": [
           {
            "marker": {
             "colorbar": {
              "outlinewidth": 0,
              "ticks": ""
             }
            },
            "type": "scattermapbox"
           }
          ],
          "scatterpolar": [
           {
            "marker": {
             "colorbar": {
              "outlinewidth": 0,
              "ticks": ""
             }
            },
            "type": "scatterpolar"
           }
          ],
          "scatterpolargl": [
           {
            "marker": {
             "colorbar": {
              "outlinewidth": 0,
              "ticks": ""
             }
            },
            "type": "scatterpolargl"
           }
          ],
          "scatterternary": [
           {
            "marker": {
             "colorbar": {
              "outlinewidth": 0,
              "ticks": ""
             }
            },
            "type": "scatterternary"
           }
          ],
          "surface": [
           {
            "colorbar": {
             "outlinewidth": 0,
             "ticks": ""
            },
            "colorscale": [
             [
              0,
              "#0d0887"
             ],
             [
              0.1111111111111111,
              "#46039f"
             ],
             [
              0.2222222222222222,
              "#7201a8"
             ],
             [
              0.3333333333333333,
              "#9c179e"
             ],
             [
              0.4444444444444444,
              "#bd3786"
             ],
             [
              0.5555555555555556,
              "#d8576b"
             ],
             [
              0.6666666666666666,
              "#ed7953"
             ],
             [
              0.7777777777777778,
              "#fb9f3a"
             ],
             [
              0.8888888888888888,
              "#fdca26"
             ],
             [
              1,
              "#f0f921"
             ]
            ],
            "type": "surface"
           }
          ],
          "table": [
           {
            "cells": {
             "fill": {
              "color": "#EBF0F8"
             },
             "line": {
              "color": "white"
             }
            },
            "header": {
             "fill": {
              "color": "#C8D4E3"
             },
             "line": {
              "color": "white"
             }
            },
            "type": "table"
           }
          ]
         },
         "layout": {
          "annotationdefaults": {
           "arrowcolor": "#2a3f5f",
           "arrowhead": 0,
           "arrowwidth": 1
          },
          "autotypenumbers": "strict",
          "coloraxis": {
           "colorbar": {
            "outlinewidth": 0,
            "ticks": ""
           }
          },
          "colorscale": {
           "diverging": [
            [
             0,
             "#8e0152"
            ],
            [
             0.1,
             "#c51b7d"
            ],
            [
             0.2,
             "#de77ae"
            ],
            [
             0.3,
             "#f1b6da"
            ],
            [
             0.4,
             "#fde0ef"
            ],
            [
             0.5,
             "#f7f7f7"
            ],
            [
             0.6,
             "#e6f5d0"
            ],
            [
             0.7,
             "#b8e186"
            ],
            [
             0.8,
             "#7fbc41"
            ],
            [
             0.9,
             "#4d9221"
            ],
            [
             1,
             "#276419"
            ]
           ],
           "sequential": [
            [
             0,
             "#0d0887"
            ],
            [
             0.1111111111111111,
             "#46039f"
            ],
            [
             0.2222222222222222,
             "#7201a8"
            ],
            [
             0.3333333333333333,
             "#9c179e"
            ],
            [
             0.4444444444444444,
             "#bd3786"
            ],
            [
             0.5555555555555556,
             "#d8576b"
            ],
            [
             0.6666666666666666,
             "#ed7953"
            ],
            [
             0.7777777777777778,
             "#fb9f3a"
            ],
            [
             0.8888888888888888,
             "#fdca26"
            ],
            [
             1,
             "#f0f921"
            ]
           ],
           "sequentialminus": [
            [
             0,
             "#0d0887"
            ],
            [
             0.1111111111111111,
             "#46039f"
            ],
            [
             0.2222222222222222,
             "#7201a8"
            ],
            [
             0.3333333333333333,
             "#9c179e"
            ],
            [
             0.4444444444444444,
             "#bd3786"
            ],
            [
             0.5555555555555556,
             "#d8576b"
            ],
            [
             0.6666666666666666,
             "#ed7953"
            ],
            [
             0.7777777777777778,
             "#fb9f3a"
            ],
            [
             0.8888888888888888,
             "#fdca26"
            ],
            [
             1,
             "#f0f921"
            ]
           ]
          },
          "colorway": [
           "#636efa",
           "#EF553B",
           "#00cc96",
           "#ab63fa",
           "#FFA15A",
           "#19d3f3",
           "#FF6692",
           "#B6E880",
           "#FF97FF",
           "#FECB52"
          ],
          "font": {
           "color": "#2a3f5f"
          },
          "geo": {
           "bgcolor": "white",
           "lakecolor": "white",
           "landcolor": "#E5ECF6",
           "showlakes": true,
           "showland": true,
           "subunitcolor": "white"
          },
          "hoverlabel": {
           "align": "left"
          },
          "hovermode": "closest",
          "mapbox": {
           "style": "light"
          },
          "paper_bgcolor": "white",
          "plot_bgcolor": "#E5ECF6",
          "polar": {
           "angularaxis": {
            "gridcolor": "white",
            "linecolor": "white",
            "ticks": ""
           },
           "bgcolor": "#E5ECF6",
           "radialaxis": {
            "gridcolor": "white",
            "linecolor": "white",
            "ticks": ""
           }
          },
          "scene": {
           "xaxis": {
            "backgroundcolor": "#E5ECF6",
            "gridcolor": "white",
            "gridwidth": 2,
            "linecolor": "white",
            "showbackground": true,
            "ticks": "",
            "zerolinecolor": "white"
           },
           "yaxis": {
            "backgroundcolor": "#E5ECF6",
            "gridcolor": "white",
            "gridwidth": 2,
            "linecolor": "white",
            "showbackground": true,
            "ticks": "",
            "zerolinecolor": "white"
           },
           "zaxis": {
            "backgroundcolor": "#E5ECF6",
            "gridcolor": "white",
            "gridwidth": 2,
            "linecolor": "white",
            "showbackground": true,
            "ticks": "",
            "zerolinecolor": "white"
           }
          },
          "shapedefaults": {
           "line": {
            "color": "#2a3f5f"
           }
          },
          "ternary": {
           "aaxis": {
            "gridcolor": "white",
            "linecolor": "white",
            "ticks": ""
           },
           "baxis": {
            "gridcolor": "white",
            "linecolor": "white",
            "ticks": ""
           },
           "bgcolor": "#E5ECF6",
           "caxis": {
            "gridcolor": "white",
            "linecolor": "white",
            "ticks": ""
           }
          },
          "title": {
           "x": 0.05
          },
          "xaxis": {
           "automargin": true,
           "gridcolor": "white",
           "linecolor": "white",
           "ticks": "",
           "title": {
            "standoff": 15
           },
           "zerolinecolor": "white",
           "zerolinewidth": 2
          },
          "yaxis": {
           "automargin": true,
           "gridcolor": "white",
           "linecolor": "white",
           "ticks": "",
           "title": {
            "standoff": 15
           },
           "zerolinecolor": "white",
           "zerolinewidth": 2
          }
         }
        },
        "title": {
         "text": "Bubble Plot of Incident Count by Tactic and Age Group"
        },
        "xaxis": {
         "anchor": "y",
         "domain": [
          0,
          1
         ],
         "title": {
          "text": "Tactic"
         }
        },
        "yaxis": {
         "anchor": "x",
         "domain": [
          0,
          1
         ],
         "title": {
          "text": "Incident Count"
         }
        }
       }
      }
     },
     "metadata": {},
     "output_type": "display_data"
    }
   ],
   "source": [
    "fig_bubble"
   ]
  },
  {
   "cell_type": "code",
   "execution_count": 4,
   "metadata": {},
   "outputs": [
    {
     "data": {
      "application/vnd.plotly.v1+json": {
       "config": {
        "plotlyServerURL": "https://plot.ly"
       },
       "data": [
        {
         "branchvalues": "total",
         "customdata": [
          [
           "Not stated"
          ],
          [
           "Not stated"
          ],
          [
           "Not stated"
          ],
          [
           "Fired"
          ],
          [
           "Non-compliant handcuffing"
          ],
          [
           "Irritant spray - drawn"
          ],
          [
           "Arced"
          ],
          [
           "Baton drawn"
          ],
          [
           "AEP aimed"
          ],
          [
           "Spit and bite guard"
          ],
          [
           "Shield"
          ],
          [
           "Red-dot"
          ],
          [
           "Drive-stun"
          ],
          [
           "Irritant spray - used"
          ],
          [
           "Limb / Body restraints"
          ],
          [
           "Angle-drive stun"
          ],
          [
           "Compliant handcuffing"
          ],
          [
           "Dog bite"
          ],
          [
           "Aimed"
          ],
          [
           "AEP fired"
          ],
          [
           "Tactical communication (with other tactic)"
          ],
          [
           "Baton used"
          ],
          [
           "Not stated"
          ],
          [
           "AEP, of which"
          ],
          [
           "Other / improvised"
          ],
          [
           "Dog deployed"
          ],
          [
           "(?)"
          ],
          [
           "Ground restraint"
          ],
          [
           "Drawn"
          ],
          [
           "Dog use, of which"
          ],
          [
           "Tactical communication (with other tactic)"
          ],
          [
           "(?)"
          ],
          [
           "(?)"
          ],
          [
           "(?)"
          ],
          [
           "(?)"
          ]
         ],
         "domain": {
          "x": [
           0,
           1
          ],
          "y": [
           0,
           1
          ]
         },
         "hovertemplate": "labels=%{label}<br>Total=%{value}<br>parent=%{parent}<br>id=%{id}<br>Tactic=%{customdata[0]}<extra></extra>",
         "ids": [
          "all/Other equipment/Not stated",
          "all/Restraint/Not stated",
          "all/Other/Not stated",
          "all/Less lethal weapons/Fired",
          "all/Restraint/Non-compliant handcuffing",
          "all/Other equipment/Irritant spray - drawn",
          "all/Less lethal weapons/Arced",
          "all/Other equipment/Baton drawn",
          "all/Less lethal weapons/AEP aimed",
          "all/Other equipment/Spit and bite guard",
          "all/Other equipment/Shield",
          "all/Less lethal weapons/Red-dot",
          "all/Less lethal weapons/Drive-stun",
          "all/Other equipment/Irritant spray - used",
          "all/Restraint/Limb / Body restraints",
          "all/Less lethal weapons/Angle-drive stun",
          "all/Restraint/Compliant handcuffing",
          "all/Other/Dog bite",
          "all/Less lethal weapons/Aimed",
          "all/Less lethal weapons/AEP fired",
          "all/Not reported/Tactical communication (with other tactic)",
          "all/Other equipment/Baton used",
          "all/Less lethal weapons/Not stated",
          "all/Less lethal weapons/AEP, of which",
          "all/Other/Other / improvised",
          "all/Other/Dog deployed",
          "all/Less lethal weapons",
          "all/Restraint/Ground restraint",
          "all/Less lethal weapons/Drawn",
          "all/Other/Dog use, of which",
          "all/Not reported",
          "all/Other",
          "all/Other equipment",
          "all/Restraint",
          "all"
         ],
         "labels": [
          "Not stated",
          "Not stated",
          "Not stated",
          "Fired",
          "Non-compliant handcuffing",
          "Irritant spray - drawn",
          "Arced",
          "Baton drawn",
          "AEP aimed",
          "Spit and bite guard",
          "Shield",
          "Red-dot",
          "Drive-stun",
          "Irritant spray - used",
          "Limb / Body restraints",
          "Angle-drive stun",
          "Compliant handcuffing",
          "Dog bite",
          "Aimed",
          "AEP fired",
          "Tactical communication (with other tactic)",
          "Baton used",
          "Not stated",
          "AEP, of which",
          "Other / improvised",
          "Dog deployed",
          "Less lethal weapons",
          "Ground restraint",
          "Drawn",
          "Dog use, of which",
          "Not reported",
          "Other",
          "Other equipment",
          "Restraint",
          "all"
         ],
         "marker": {
          "colors": [
           "#636efa",
           "#636efa",
           "#636efa",
           "#EF553B",
           "#00cc96",
           "#ab63fa",
           "#FFA15A",
           "#19d3f3",
           "#FF6692",
           "#B6E880",
           "#FF97FF",
           "#FECB52",
           "#636efa",
           "#EF553B",
           "#00cc96",
           "#ab63fa",
           "#FFA15A",
           "#19d3f3",
           "#FF6692",
           "#B6E880",
           "#FF97FF",
           "#FECB52",
           "#636efa",
           "#636efa",
           "#EF553B",
           "#00cc96",
           "#ab63fa",
           "#FFA15A",
           "#19d3f3",
           "#FF6692",
           "#FF97FF",
           "#ab63fa",
           "#ab63fa",
           "#ab63fa",
           "#ab63fa"
          ]
         },
         "name": "",
         "parents": [
          "all/Other equipment",
          "all/Restraint",
          "all/Other",
          "all/Less lethal weapons",
          "all/Restraint",
          "all/Other equipment",
          "all/Less lethal weapons",
          "all/Other equipment",
          "all/Less lethal weapons",
          "all/Other equipment",
          "all/Other equipment",
          "all/Less lethal weapons",
          "all/Less lethal weapons",
          "all/Other equipment",
          "all/Restraint",
          "all/Less lethal weapons",
          "all/Restraint",
          "all/Other",
          "all/Less lethal weapons",
          "all/Less lethal weapons",
          "all/Not reported",
          "all/Other equipment",
          "all/Less lethal weapons",
          "all/Less lethal weapons",
          "all/Other",
          "all/Other",
          "all",
          "all/Restraint",
          "all/Less lethal weapons",
          "all/Other",
          "all",
          "all",
          "all",
          "all",
          ""
         ],
         "type": "treemap",
         "values": [
          4276,
          34432,
          268,
          1872,
          77763,
          4705,
          133,
          2756,
          272,
          2641,
          827,
          8530,
          62,
          5635,
          21646,
          70,
          106615,
          414,
          1549,
          36,
          164922,
          1377,
          752,
          532,
          28760,
          1238,
          18148,
          45106,
          4340,
          1920,
          164922,
          32600,
          22217,
          285562,
          523449
         ]
        }
       ],
       "layout": {
        "legend": {
         "tracegroupgap": 0
        },
        "margin": {
         "b": 25,
         "l": 25,
         "r": 25,
         "t": 50
        },
        "template": {
         "data": {
          "bar": [
           {
            "error_x": {
             "color": "#2a3f5f"
            },
            "error_y": {
             "color": "#2a3f5f"
            },
            "marker": {
             "line": {
              "color": "#E5ECF6",
              "width": 0.5
             },
             "pattern": {
              "fillmode": "overlay",
              "size": 10,
              "solidity": 0.2
             }
            },
            "type": "bar"
           }
          ],
          "barpolar": [
           {
            "marker": {
             "line": {
              "color": "#E5ECF6",
              "width": 0.5
             },
             "pattern": {
              "fillmode": "overlay",
              "size": 10,
              "solidity": 0.2
             }
            },
            "type": "barpolar"
           }
          ],
          "carpet": [
           {
            "aaxis": {
             "endlinecolor": "#2a3f5f",
             "gridcolor": "white",
             "linecolor": "white",
             "minorgridcolor": "white",
             "startlinecolor": "#2a3f5f"
            },
            "baxis": {
             "endlinecolor": "#2a3f5f",
             "gridcolor": "white",
             "linecolor": "white",
             "minorgridcolor": "white",
             "startlinecolor": "#2a3f5f"
            },
            "type": "carpet"
           }
          ],
          "choropleth": [
           {
            "colorbar": {
             "outlinewidth": 0,
             "ticks": ""
            },
            "type": "choropleth"
           }
          ],
          "contour": [
           {
            "colorbar": {
             "outlinewidth": 0,
             "ticks": ""
            },
            "colorscale": [
             [
              0,
              "#0d0887"
             ],
             [
              0.1111111111111111,
              "#46039f"
             ],
             [
              0.2222222222222222,
              "#7201a8"
             ],
             [
              0.3333333333333333,
              "#9c179e"
             ],
             [
              0.4444444444444444,
              "#bd3786"
             ],
             [
              0.5555555555555556,
              "#d8576b"
             ],
             [
              0.6666666666666666,
              "#ed7953"
             ],
             [
              0.7777777777777778,
              "#fb9f3a"
             ],
             [
              0.8888888888888888,
              "#fdca26"
             ],
             [
              1,
              "#f0f921"
             ]
            ],
            "type": "contour"
           }
          ],
          "contourcarpet": [
           {
            "colorbar": {
             "outlinewidth": 0,
             "ticks": ""
            },
            "type": "contourcarpet"
           }
          ],
          "heatmap": [
           {
            "colorbar": {
             "outlinewidth": 0,
             "ticks": ""
            },
            "colorscale": [
             [
              0,
              "#0d0887"
             ],
             [
              0.1111111111111111,
              "#46039f"
             ],
             [
              0.2222222222222222,
              "#7201a8"
             ],
             [
              0.3333333333333333,
              "#9c179e"
             ],
             [
              0.4444444444444444,
              "#bd3786"
             ],
             [
              0.5555555555555556,
              "#d8576b"
             ],
             [
              0.6666666666666666,
              "#ed7953"
             ],
             [
              0.7777777777777778,
              "#fb9f3a"
             ],
             [
              0.8888888888888888,
              "#fdca26"
             ],
             [
              1,
              "#f0f921"
             ]
            ],
            "type": "heatmap"
           }
          ],
          "heatmapgl": [
           {
            "colorbar": {
             "outlinewidth": 0,
             "ticks": ""
            },
            "colorscale": [
             [
              0,
              "#0d0887"
             ],
             [
              0.1111111111111111,
              "#46039f"
             ],
             [
              0.2222222222222222,
              "#7201a8"
             ],
             [
              0.3333333333333333,
              "#9c179e"
             ],
             [
              0.4444444444444444,
              "#bd3786"
             ],
             [
              0.5555555555555556,
              "#d8576b"
             ],
             [
              0.6666666666666666,
              "#ed7953"
             ],
             [
              0.7777777777777778,
              "#fb9f3a"
             ],
             [
              0.8888888888888888,
              "#fdca26"
             ],
             [
              1,
              "#f0f921"
             ]
            ],
            "type": "heatmapgl"
           }
          ],
          "histogram": [
           {
            "marker": {
             "pattern": {
              "fillmode": "overlay",
              "size": 10,
              "solidity": 0.2
             }
            },
            "type": "histogram"
           }
          ],
          "histogram2d": [
           {
            "colorbar": {
             "outlinewidth": 0,
             "ticks": ""
            },
            "colorscale": [
             [
              0,
              "#0d0887"
             ],
             [
              0.1111111111111111,
              "#46039f"
             ],
             [
              0.2222222222222222,
              "#7201a8"
             ],
             [
              0.3333333333333333,
              "#9c179e"
             ],
             [
              0.4444444444444444,
              "#bd3786"
             ],
             [
              0.5555555555555556,
              "#d8576b"
             ],
             [
              0.6666666666666666,
              "#ed7953"
             ],
             [
              0.7777777777777778,
              "#fb9f3a"
             ],
             [
              0.8888888888888888,
              "#fdca26"
             ],
             [
              1,
              "#f0f921"
             ]
            ],
            "type": "histogram2d"
           }
          ],
          "histogram2dcontour": [
           {
            "colorbar": {
             "outlinewidth": 0,
             "ticks": ""
            },
            "colorscale": [
             [
              0,
              "#0d0887"
             ],
             [
              0.1111111111111111,
              "#46039f"
             ],
             [
              0.2222222222222222,
              "#7201a8"
             ],
             [
              0.3333333333333333,
              "#9c179e"
             ],
             [
              0.4444444444444444,
              "#bd3786"
             ],
             [
              0.5555555555555556,
              "#d8576b"
             ],
             [
              0.6666666666666666,
              "#ed7953"
             ],
             [
              0.7777777777777778,
              "#fb9f3a"
             ],
             [
              0.8888888888888888,
              "#fdca26"
             ],
             [
              1,
              "#f0f921"
             ]
            ],
            "type": "histogram2dcontour"
           }
          ],
          "mesh3d": [
           {
            "colorbar": {
             "outlinewidth": 0,
             "ticks": ""
            },
            "type": "mesh3d"
           }
          ],
          "parcoords": [
           {
            "line": {
             "colorbar": {
              "outlinewidth": 0,
              "ticks": ""
             }
            },
            "type": "parcoords"
           }
          ],
          "pie": [
           {
            "automargin": true,
            "type": "pie"
           }
          ],
          "scatter": [
           {
            "fillpattern": {
             "fillmode": "overlay",
             "size": 10,
             "solidity": 0.2
            },
            "type": "scatter"
           }
          ],
          "scatter3d": [
           {
            "line": {
             "colorbar": {
              "outlinewidth": 0,
              "ticks": ""
             }
            },
            "marker": {
             "colorbar": {
              "outlinewidth": 0,
              "ticks": ""
             }
            },
            "type": "scatter3d"
           }
          ],
          "scattercarpet": [
           {
            "marker": {
             "colorbar": {
              "outlinewidth": 0,
              "ticks": ""
             }
            },
            "type": "scattercarpet"
           }
          ],
          "scattergeo": [
           {
            "marker": {
             "colorbar": {
              "outlinewidth": 0,
              "ticks": ""
             }
            },
            "type": "scattergeo"
           }
          ],
          "scattergl": [
           {
            "marker": {
             "colorbar": {
              "outlinewidth": 0,
              "ticks": ""
             }
            },
            "type": "scattergl"
           }
          ],
          "scattermapbox": [
           {
            "marker": {
             "colorbar": {
              "outlinewidth": 0,
              "ticks": ""
             }
            },
            "type": "scattermapbox"
           }
          ],
          "scatterpolar": [
           {
            "marker": {
             "colorbar": {
              "outlinewidth": 0,
              "ticks": ""
             }
            },
            "type": "scatterpolar"
           }
          ],
          "scatterpolargl": [
           {
            "marker": {
             "colorbar": {
              "outlinewidth": 0,
              "ticks": ""
             }
            },
            "type": "scatterpolargl"
           }
          ],
          "scatterternary": [
           {
            "marker": {
             "colorbar": {
              "outlinewidth": 0,
              "ticks": ""
             }
            },
            "type": "scatterternary"
           }
          ],
          "surface": [
           {
            "colorbar": {
             "outlinewidth": 0,
             "ticks": ""
            },
            "colorscale": [
             [
              0,
              "#0d0887"
             ],
             [
              0.1111111111111111,
              "#46039f"
             ],
             [
              0.2222222222222222,
              "#7201a8"
             ],
             [
              0.3333333333333333,
              "#9c179e"
             ],
             [
              0.4444444444444444,
              "#bd3786"
             ],
             [
              0.5555555555555556,
              "#d8576b"
             ],
             [
              0.6666666666666666,
              "#ed7953"
             ],
             [
              0.7777777777777778,
              "#fb9f3a"
             ],
             [
              0.8888888888888888,
              "#fdca26"
             ],
             [
              1,
              "#f0f921"
             ]
            ],
            "type": "surface"
           }
          ],
          "table": [
           {
            "cells": {
             "fill": {
              "color": "#EBF0F8"
             },
             "line": {
              "color": "white"
             }
            },
            "header": {
             "fill": {
              "color": "#C8D4E3"
             },
             "line": {
              "color": "white"
             }
            },
            "type": "table"
           }
          ]
         },
         "layout": {
          "annotationdefaults": {
           "arrowcolor": "#2a3f5f",
           "arrowhead": 0,
           "arrowwidth": 1
          },
          "autotypenumbers": "strict",
          "coloraxis": {
           "colorbar": {
            "outlinewidth": 0,
            "ticks": ""
           }
          },
          "colorscale": {
           "diverging": [
            [
             0,
             "#8e0152"
            ],
            [
             0.1,
             "#c51b7d"
            ],
            [
             0.2,
             "#de77ae"
            ],
            [
             0.3,
             "#f1b6da"
            ],
            [
             0.4,
             "#fde0ef"
            ],
            [
             0.5,
             "#f7f7f7"
            ],
            [
             0.6,
             "#e6f5d0"
            ],
            [
             0.7,
             "#b8e186"
            ],
            [
             0.8,
             "#7fbc41"
            ],
            [
             0.9,
             "#4d9221"
            ],
            [
             1,
             "#276419"
            ]
           ],
           "sequential": [
            [
             0,
             "#0d0887"
            ],
            [
             0.1111111111111111,
             "#46039f"
            ],
            [
             0.2222222222222222,
             "#7201a8"
            ],
            [
             0.3333333333333333,
             "#9c179e"
            ],
            [
             0.4444444444444444,
             "#bd3786"
            ],
            [
             0.5555555555555556,
             "#d8576b"
            ],
            [
             0.6666666666666666,
             "#ed7953"
            ],
            [
             0.7777777777777778,
             "#fb9f3a"
            ],
            [
             0.8888888888888888,
             "#fdca26"
            ],
            [
             1,
             "#f0f921"
            ]
           ],
           "sequentialminus": [
            [
             0,
             "#0d0887"
            ],
            [
             0.1111111111111111,
             "#46039f"
            ],
            [
             0.2222222222222222,
             "#7201a8"
            ],
            [
             0.3333333333333333,
             "#9c179e"
            ],
            [
             0.4444444444444444,
             "#bd3786"
            ],
            [
             0.5555555555555556,
             "#d8576b"
            ],
            [
             0.6666666666666666,
             "#ed7953"
            ],
            [
             0.7777777777777778,
             "#fb9f3a"
            ],
            [
             0.8888888888888888,
             "#fdca26"
            ],
            [
             1,
             "#f0f921"
            ]
           ]
          },
          "colorway": [
           "#636efa",
           "#EF553B",
           "#00cc96",
           "#ab63fa",
           "#FFA15A",
           "#19d3f3",
           "#FF6692",
           "#B6E880",
           "#FF97FF",
           "#FECB52"
          ],
          "font": {
           "color": "#2a3f5f"
          },
          "geo": {
           "bgcolor": "white",
           "lakecolor": "white",
           "landcolor": "#E5ECF6",
           "showlakes": true,
           "showland": true,
           "subunitcolor": "white"
          },
          "hoverlabel": {
           "align": "left"
          },
          "hovermode": "closest",
          "mapbox": {
           "style": "light"
          },
          "paper_bgcolor": "white",
          "plot_bgcolor": "#E5ECF6",
          "polar": {
           "angularaxis": {
            "gridcolor": "white",
            "linecolor": "white",
            "ticks": ""
           },
           "bgcolor": "#E5ECF6",
           "radialaxis": {
            "gridcolor": "white",
            "linecolor": "white",
            "ticks": ""
           }
          },
          "scene": {
           "xaxis": {
            "backgroundcolor": "#E5ECF6",
            "gridcolor": "white",
            "gridwidth": 2,
            "linecolor": "white",
            "showbackground": true,
            "ticks": "",
            "zerolinecolor": "white"
           },
           "yaxis": {
            "backgroundcolor": "#E5ECF6",
            "gridcolor": "white",
            "gridwidth": 2,
            "linecolor": "white",
            "showbackground": true,
            "ticks": "",
            "zerolinecolor": "white"
           },
           "zaxis": {
            "backgroundcolor": "#E5ECF6",
            "gridcolor": "white",
            "gridwidth": 2,
            "linecolor": "white",
            "showbackground": true,
            "ticks": "",
            "zerolinecolor": "white"
           }
          },
          "shapedefaults": {
           "line": {
            "color": "#2a3f5f"
           }
          },
          "ternary": {
           "aaxis": {
            "gridcolor": "white",
            "linecolor": "white",
            "ticks": ""
           },
           "baxis": {
            "gridcolor": "white",
            "linecolor": "white",
            "ticks": ""
           },
           "bgcolor": "#E5ECF6",
           "caxis": {
            "gridcolor": "white",
            "linecolor": "white",
            "ticks": ""
           }
          },
          "title": {
           "x": 0.05
          },
          "xaxis": {
           "automargin": true,
           "gridcolor": "white",
           "linecolor": "white",
           "ticks": "",
           "title": {
            "standoff": 15
           },
           "zerolinecolor": "white",
           "zerolinewidth": 2
          },
          "yaxis": {
           "automargin": true,
           "gridcolor": "white",
           "linecolor": "white",
           "ticks": "",
           "title": {
            "standoff": 15
           },
           "zerolinecolor": "white",
           "zerolinewidth": 2
          }
         }
        },
        "title": {
         "text": "Population breakdown of all Tactic types"
        }
       }
      }
     },
     "metadata": {},
     "output_type": "display_data"
    }
   ],
   "source": [
    "Treemap_Tactic"
   ]
  },
  {
   "cell_type": "markdown",
   "metadata": {},
   "source": [
    "## 9. Reflective Evaluation\n",
    "\n",
    "Good project progress made throughout. An iterative, intentional and considered approach was deployed from start to finish. As such, the process was informed from methodical searching, sourcing and manipulation. My outcomes were tailored: they considered audience, academia and suitability in constructing a comprehensive and considered Dashboard.\n",
    "\n",
    "The main challenge was on-integration of Plotnine and GeoJson in Dash meaning my graphs had to be altered to become compatible. Initially setting up Dash was unfamiliar as well but not an obstacle.\n",
    "\n",
    "For improvements, I will try and source even more data to consider a predictive element. I will also use Arc GIS to enable macro and micro level geographical visualisations. I am also keen to enhance interaction: whilst I had some, crucially “the interacti[ve] component involves the dialogue between the user and the system” and “is an essential part of infovis” (Yi et al, 2007) meaning further inclusion only ensures “sufficient assistance” to the user (Kirk, 2020).\n"
   ]
  },
  {
   "cell_type": "markdown",
   "metadata": {},
   "source": [
    "## 10. Conclusion\n",
    "Overall, this project was successful in displaying appropriate, large data in a tailored aesthetic and intuitive format. The outcome was a functioning Dashboard that would be useful in a professional environment and its decision makers. It provides a visual, interactive and perceptive dimension to information comprehension which emanates engagement and consideration. The project is significant in that it has provided a rewarding challenge and encouraged me to consider lots of different aspects to data analysis I hadn't previously. For example, I now appreciate the thought and design process of a real-time data representation and how powerful this can be - in terms of interfacing, comprehensibility and usefulness in information communication as opposed to stand-alone static graphics. In this way, despite alleged “little design guidance for dashboards” (Bach et al., 2022) I have produced a specific and considered Dashboard, hopefully proving to be effective, which would be refined through user feedback and further consideration of audience needs and the story of the data."
   ]
  },
  {
   "cell_type": "markdown",
   "metadata": {},
   "source": [
    "## References\n",
    "\n",
    "Bach, B., Freeman, E., Abdul-Rahman, A., Turkay, C., Khan, S., Fan, Y., & Chen, M. (2022). Dashboard design patterns. IEEE Transactions on Visualization and Computer Graphics, 29(1), 342-352. https://doi.org/10.1109/TVCG.2022.3143372\n",
    "\n",
    "Berinato, S. (2023). Good charts, updated and expanded: The HBR guide to making smarter, more persuasive data visualizations. Harvard Business Press.\n",
    "\n",
    "Brath, R., & Peters, M. (2004). Dashboard design: Why design is important. DM Direct, 85, 1011285-1.\n",
    "\n",
    "Cairo, A. (2012). The functional art: An introduction to information graphics and visualization. New Riders.\n",
    "\n",
    "Elias, M., & Bezerianos, A. (2011). Exploration views: Understanding dashboard creation and customization for visualization novices. In Human-Computer Interaction–INTERACT 2011: 13th IFIP TC 13 International Conference (pp. 274-291). Springer Berlin Heidelberg.\n",
    "\n",
    "Eckerson, W. W. (2010). Performance dashboards: measuring, monitoring, and managing your business. John Wiley & Sons.\n",
    "\n",
    "Evergreen, S. D. (2019). Effective data visualization: The right chart for the right data. SAGE Publications.\n",
    "\n",
    "Franklin, A., Gantela, S., Shifarraw, S., Johnson, T. R., Robinson, D. J., King, B. R., ... & Okafor, N. G. (2017). Dashboard visualizations: Supporting real-time throughput decision-making. Journal of Biomedical Informatics, 71, 211-221. https://doi.org/10.1016/j.jbi.2017.06.009\n",
    "\n",
    "Gov UK (2018) https://www.data.gov.uk/dataset/44aba3b3-b9e4-4b0c-ad30-6ae2dcd9a9b9/police-use-of-force\n",
    "\n",
    "Janes, A., Sillitti, A., & Succi, G. (2013). Effective dashboard design. Cutter IT Journal, 26(1), 17-24.\n",
    "\n",
    "Keogh, A., Johnston, W., Ashton, M., Sett, N., Mullan, R., Donnelly, S., ... & Caulfield, B. (2020). “It’s not as simple as just looking at one chart”: A qualitative study exploring clinician’s opinions on various visualization strategies to represent longitudinal actigraphy data. Digital Biomarkers, 4(Suppl. 1), 87-99. https://doi.org/10.1159/000510670\n",
    "\n",
    "Knaflic, C. N. (2015). Storytelling with data: A data visualization guide for business professionals. John Wiley & Sons.\n",
    "\n",
    "Kirk, A. (2020). Data visualisation literacy–learning to see. Revista de Contabilidad y Dirección, 31, 37-48.\n",
    "\n",
    "Manovich, L. (2011). What is visualisation?. Visual Studies, 26(1), 36-49. https://doi.org/10.1080/1472586X.2011.558741\n",
    "\n",
    "ONS (2024)  https://www.ons.gov.uk/peoplepopulationandcommunity/crimeandjustice/datasets/policeforceareadatatables\n",
    "\n",
    "Park, Y., & Jo, I. H. (2015). Development of the learning analytics dashboard to support students' learning performance. Journal of Universal Computer Science, 21(1), 110-133.\n",
    "\n",
    "Platts, K., & Tan, K. H. (2004). Strategy visualisation: Knowing, understanding, and formulating. Management Decision, 42(5), 667-676. https://doi.org/10.1108/00251740410539676\n",
    "\n",
    "Purchase, H. C. (2000). Effective information visualisation: A study of graph drawing aesthetics and algorithms. Interacting with Computers, 13(2), 147-162. https://doi.org/10.1016/S0953-5438(00)00021-4\n",
    "\n",
    "Rosli, M. H. W., & Cabrera, A. (2015). Gestalt principles in multimodal data representation. IEEE Computer Graphics and Applications, 35(2), 80-87. https://doi.org/10.1109/MCGA.2015.33\n",
    "\n",
    "Sedrakyan, G., Mannens, E., & Verbert, K. (2019). Guiding the choice of learning dashboard visualizations: Linking dashboard design and data visualization concepts. Journal of Computer Languages, 50, 19-38. https://doi.org/10.1016/j.jcl.2019.01.001\n",
    "\n",
    "Tufte, E. R. (1997). Visual explanations: Images and quantities, evidence and narrative. Graphics Press.\n",
    "\n",
    "Tufte, E., & Graves-Morris, P. (2014). The visual display of quantitative information. In Diagrammatik-Reader. Grundlegende Texte aus Theorie und Geschichte (pp. 219-230). De Gruyter.\n",
    "\n",
    "Toasa, R., Maximiano, M., Reis, C., & Guevara, D. (2018, June). Data visualization techniques for real-time information—A custom and dynamic dashboard for analyzing surveys' results. In 2018 13th Iberian Conference on Information Systems and Technologies (CISTI) (pp. 1-7). IEEE. https://doi.org/10.23919/CISTI.2018.8399294\n",
    "\n",
    "Ware, C. (2021). Visual thinking for information design. Morgan Kaufmann.\n",
    "\n",
    "Yi, J. S., Kang, Y. A., Stasko, J. T., & Jacko, J. A. (2007). Toward a deeper understanding of the role of information visualization. IEEE Transactions on Visualization and Computer Graphics, 13(6), 1224-1231. https://doi.org/10.1109/TVCG.2007.70512\n",
    "\n",
    "Yoghourdjian, V., Archambault, D., Diehl, S., Dwyer, T., Klein, K., Purchase, H. C., & Wu, H. Y. (2018). Exploring the limits of complexity: A survey of empirical studies on graph visualization. Visual Informatics, 2(4), 264-282. https://doi.org/10.1016/j.visinf.2018.10.002"
   ]
  }
 ],
 "metadata": {
  "kernelspec": {
   "display_name": "base",
   "language": "python",
   "name": "python3"
  },
  "language_info": {
   "codemirror_mode": {
    "name": "ipython",
    "version": 3
   },
   "file_extension": ".py",
   "mimetype": "text/x-python",
   "name": "python",
   "nbconvert_exporter": "python",
   "pygments_lexer": "ipython3",
   "version": "3.12.4"
  }
 },
 "nbformat": 4,
 "nbformat_minor": 2
}
